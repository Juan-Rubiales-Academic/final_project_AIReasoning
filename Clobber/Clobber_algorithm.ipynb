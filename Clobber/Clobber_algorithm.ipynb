{
  "cells": [
    {
      "cell_type": "markdown",
      "metadata": {
        "id": "SMOeYqKQEWAh"
      },
      "source": [
        "Please remember to update the token. For multiplayer to work, each player needs a different token. Please feel free to use multiple tokens in the same group."
      ]
    },
    {
      "cell_type": "code",
      "execution_count": 2,
      "metadata": {
        "id": "jMHiHG2lEUJo"
      },
      "outputs": [],
      "source": [
        "#Update your token\n",
        "STUDENT_TOKEN = 'GROUP 1'"
      ]
    },
    {
      "cell_type": "markdown",
      "metadata": {
        "id": "5k9_BgjreDwW"
      },
      "source": [
        "# Base Code"
      ]
    },
    {
      "cell_type": "markdown",
      "metadata": {
        "id": "Kv-G27nSEQ2f"
      },
      "source": [
        "There should be no need to change the code below."
      ]
    },
    {
      "cell_type": "code",
      "execution_count": 3,
      "metadata": {
        "id": "z9Bf9x8JNee2"
      },
      "outputs": [],
      "source": [
        "## ignore this code, just used for submission\n",
        "import requests\n",
        "import pprint\n",
        "import json\n",
        "import random\n",
        "import time\n",
        "from copy import copy, deepcopy\n",
        "\n",
        "class Game:\n",
        "  def __init__(self, state, status, player):\n",
        "    self.state = state\n",
        "    self.status = status\n",
        "    self.player = player\n",
        "\n",
        "  def is_waiting(self):\n",
        "    return self.status == 'waiting'\n",
        "\n",
        "  def is_end(self):\n",
        "    return self.status == 'complete'\n",
        "  \n",
        "  def get_board(self):\n",
        "    return json.loads(self.state)\n",
        "\n",
        "  def get_winner(self):\n",
        "    return None\n",
        "\n",
        "  def actions(self):\n",
        "    return []\n",
        "\n",
        "  def print(self):\n",
        "    print(self.state)\n",
        "\n",
        "def new_game(game_type, multi_player = False):\n",
        "  for _ in range(10):\n",
        "    r = requests.get('https://emarchiori.eu.pythonanywhere.com/new-game?TOKEN=%s&game-type=%s&multi-player=%s' % (STUDENT_TOKEN, game_type, 'True' if multi_player else 'False'))\n",
        "    if r.status_code == 200:\n",
        "      return r.json()['game-id']\n",
        "    print(r.content)\n",
        "\n",
        "def join_game(game_type, game_id):\n",
        "  for _ in range(10):\n",
        "    r = requests.get('https://emarchiori.eu.pythonanywhere.com/join-game?TOKEN=%s&game-type=%s&game-id=%s' % (STUDENT_TOKEN, game_type, game_id))\n",
        "    if r.status_code == 200:\n",
        "      return r.json()['player']\n",
        "    print(r.content)\n",
        "\n",
        "def game_state(game_type, game_id, GameClass):\n",
        "  for _ in range(10):\n",
        "    r = requests.get('https://emarchiori.eu.pythonanywhere.com/game-state?TOKEN=%s&game-type=%s&game-id=%s' % (STUDENT_TOKEN, game_type, game_id))\n",
        "    if r.status_code == 200:\n",
        "      return GameClass(r.json()['state'], r.json()['status'], r.json()['player'])\n",
        "    print(r.content)\n",
        "\n",
        "def update_game(game_type, game_id, player, move):\n",
        "  for _ in range(10):\n",
        "    r = requests.get('https://emarchiori.eu.pythonanywhere.com/update-game?TOKEN=%s&game-type=%s&game-id=%s&player=%s&move=%s' % (STUDENT_TOKEN, game_type, game_id, player, move))\n",
        "    if r.status_code == 200:\n",
        "      return r.content\n",
        "    print(r.content)\n",
        "\n",
        "def game_loop(solver, GameClass, game_type, multi_player = False, id = None):\n",
        "  while id == None:\n",
        "    print('Creating new game...')\n",
        "    id = new_game(game_type, multi_player)\n",
        "\n",
        "  print('Joining game with id: %s' % id)\n",
        "  player = join_game(game_type, id)\n",
        "\n",
        "  print('Playing as %s' % player)\n",
        "\n",
        "  game = game_state(game_type, id, GameClass)\n",
        "  print('Waiting for the other player to join...')\n",
        "  while game.is_waiting():\n",
        "    time.sleep(10)\n",
        "    game = game_state(game_type, id, GameClass)\n",
        "\n",
        "  while True:\n",
        "    game = game_state(game_type, id, GameClass)\n",
        "    game.print_game()\n",
        "    if game.is_end():\n",
        "      if game.player == '-':\n",
        "        print('Server says there is a draw')\n",
        "      else:\n",
        "        print('Server says your agent ' + ('WON' if game.player == player else 'LOST'))\n",
        "      return\n",
        "    if game.player == player:\n",
        "      print('Making next move...')\n",
        "      move = solver(game)\n",
        "      print(move)\n",
        "      update_result = update_game(game_type, id, player, json.dumps(move))\n",
        "      print(update_result)\n",
        "    else:\n",
        "      time.sleep(2)"
      ]
    },
    {
      "cell_type": "code",
      "execution_count": 4,
      "metadata": {
        "id": "uP9QJSL_arDf"
      },
      "outputs": [],
      "source": [
        "def game_loop_test(solver, GameClass, game_type, multi_player = False, id = None):\n",
        "  while id == None:\n",
        "    id = new_game(game_type, multi_player)\n",
        "\n",
        "  player = join_game(game_type, id)\n",
        "\n",
        "\n",
        "  game = game_state(game_type, id, GameClass)\n",
        "  while game.is_waiting():\n",
        "    time.sleep(10)\n",
        "    game = game_state(game_type, id, GameClass)\n",
        "\n",
        "  while True:\n",
        "    game = game_state(game_type, id, GameClass)\n",
        "    if game.is_end():\n",
        "      if game.player == '-':\n",
        "        return 0\n",
        "      else:\n",
        "        if game.player == player:\n",
        "          return 1\n",
        "        else: \n",
        "          return 0\n",
        "      return\n",
        "    if game.player == player:\n",
        "      move = solver(game)\n",
        "      update_result = update_game(game_type, id, player, json.dumps(move))\n",
        "    else:\n",
        "      time.sleep(2)"
      ]
    },
    {
      "cell_type": "markdown",
      "metadata": {
        "id": "bkmvv9xnEfix"
      },
      "source": [
        "There is almost certainly no need to change this code, but if you must you can."
      ]
    },
    {
      "cell_type": "code",
      "execution_count": 5,
      "metadata": {
        "id": "r_zr2XPCyKyl"
      },
      "outputs": [],
      "source": [
        "from functools import reduce\n",
        "from copy import copy, deepcopy\n",
        "import json\n",
        "import random\n",
        "\n",
        "class Clobber(Game):\n",
        "  def __init__(self, state, status, player):\n",
        "    Game.__init__(self, state, status, player)\n",
        "\n",
        "  def actions(self):\n",
        "    return [] # this should return the possible actions\n",
        "\n",
        "  def get_winner(self):\n",
        "    return '.' # this should return the actual winner\n",
        "\n",
        "  def other_player(self):\n",
        "    if self.player == 'O': return 'X'\n",
        "    if self.player == 'X': return 'O'\n",
        "\n",
        "  def print_game(self):\n",
        "    for row in self.get_board():\n",
        "      print(row)\n"
      ]
    },
    {
      "cell_type": "markdown",
      "metadata": {
        "id": "22A1Mu0od8aE"
      },
      "source": [
        "# Random Solver"
      ]
    },
    {
      "cell_type": "markdown",
      "metadata": {
        "id": "BlaDsHFtEkme"
      },
      "source": [
        "Instead of changing this code for a random solver, write new code that also returns the next move. For example, create a new \"amazing_solver\".\n",
        "\n",
        "Solvers need to return a list or tuple of 3 elements: row, col and dir. Dir can be 'R', 'L', 'U', 'D'"
      ]
    },
    {
      "cell_type": "code",
      "execution_count": 6,
      "metadata": {
        "id": "ZeCaSFQtGw3f"
      },
      "outputs": [],
      "source": [
        "def random_solver(game):\n",
        "  board = game.get_board()\n",
        "  player = game.player\n",
        "  other_player = game.other_player()\n",
        "  opts = []\n",
        "  for row in range(len(board)):\n",
        "    for col in range(len(board[row])):\n",
        "      if board[row][col] == player:\n",
        "        if row + 1 < len(board) and board[row + 1][col] == other_player:\n",
        "          opts.append((row, col, 'D'))\n",
        "        if col + 1 < len(board[row]) and board[row][col + 1] == other_player:\n",
        "          opts.append((row, col, 'R'))\n",
        "        if row - 1 >= 0 and board[row - 1][col] == other_player:\n",
        "          opts.append((row, col, 'U'))\n",
        "        if col - 1 >= 0 and board[row][col - 1] == other_player:\n",
        "          opts.append((row, col, 'L'))\n",
        "  return opts[random.randint(0, len(opts) - 1)]"
      ]
    },
    {
      "cell_type": "markdown",
      "metadata": {
        "id": "F30IkgA6Evc0"
      },
      "source": [
        "This code is the one that starts the game. In different games you will need to change the class (Clobber is the one for clobber game).\n",
        "\n",
        "The 'multi_player' variable can be True or False. If you set multi_palyer to True, you will need to provide a game_id against which to play or if using None a new game will be created (which another player can join)."
      ]
    },
    {
      "cell_type": "code",
      "execution_count": 7,
      "metadata": {
        "colab": {
          "base_uri": "https://localhost:8080/"
        },
        "id": "HbEE9dFYG_Mw",
        "outputId": "afbcbd3d-2deb-4915-f43a-78617c2a1abe"
      },
      "outputs": [
        {
          "output_type": "stream",
          "name": "stdout",
          "text": [
            "Creating new game...\n",
            "Joining game with id: 8374\n",
            "Playing as O\n",
            "Waiting for the other player to join...\n",
            "['X', 'O', 'X', 'O', 'X']\n",
            "['O', 'X', 'O', 'X', 'O']\n",
            "['X', 'O', 'X', 'O', 'X']\n",
            "['O', 'X', 'O', 'X', 'X']\n",
            "['X', 'O', 'X', 'O', '.']\n",
            "['O', 'X', 'O', 'X', 'O']\n",
            "Making next move...\n",
            "(3, 0, 'R')\n",
            "b'Valid move'\n",
            "['X', 'O', 'X', 'X', 'X']\n",
            "['O', 'X', 'O', '.', 'O']\n",
            "['X', 'O', 'X', 'O', 'X']\n",
            "['.', 'O', 'O', 'X', 'X']\n",
            "['X', 'O', 'X', 'O', '.']\n",
            "['O', 'X', 'O', 'X', 'O']\n",
            "Making next move...\n",
            "(2, 1, 'R')\n",
            "b'Valid move'\n",
            "['X', 'O', 'X', 'X', 'X']\n",
            "['O', 'X', 'O', '.', 'O']\n",
            "['X', '.', 'O', 'O', 'X']\n",
            "['.', 'O', 'X', 'X', 'X']\n",
            "['X', 'O', '.', 'O', '.']\n",
            "['O', 'X', 'O', 'X', 'O']\n",
            "Making next move...\n",
            "(4, 3, 'U')\n",
            "b'Valid move'\n",
            "['X', 'O', 'X', 'X', 'X']\n",
            "['O', 'X', 'O', '.', 'O']\n",
            "['X', '.', 'O', 'O', 'X']\n",
            "['.', 'O', 'X', 'O', 'X']\n",
            "['X', 'O', '.', '.', '.']\n",
            "['O', '.', 'X', 'X', 'O']\n",
            "Making next move...\n",
            "(1, 0, 'R')\n",
            "b'Valid move'\n",
            "['X', 'O', 'X', 'X', 'X']\n",
            "['.', 'O', 'O', '.', 'O']\n",
            "['X', '.', 'O', 'O', 'X']\n",
            "['.', 'O', 'X', 'O', 'X']\n",
            "['.', 'X', '.', '.', '.']\n",
            "['O', '.', 'X', 'X', 'O']\n",
            "Making next move...\n",
            "(2, 2, 'D')\n",
            "b'Valid move'\n",
            "['X', 'O', '.', 'X', 'X']\n",
            "['.', 'O', 'X', '.', 'O']\n",
            "['X', '.', '.', 'O', 'X']\n",
            "['.', 'O', 'O', 'O', 'X']\n",
            "['.', 'X', '.', '.', '.']\n",
            "['O', '.', 'X', 'X', 'O']\n",
            "Making next move...\n",
            "(1, 4, 'U')\n",
            "b'Valid move'\n",
            "['X', 'O', '.', 'X', 'O']\n",
            "['.', 'O', 'X', '.', '.']\n",
            "['X', '.', '.', 'O', 'X']\n",
            "['.', 'O', 'O', 'O', 'X']\n",
            "['.', 'X', '.', '.', '.']\n",
            "['O', '.', 'X', '.', 'X']\n",
            "Making next move...\n",
            "(0, 1, 'L')\n",
            "b'Valid move'\n",
            "['O', '.', '.', 'X', 'O']\n",
            "['.', 'O', 'X', '.', '.']\n",
            "['X', '.', '.', 'O', 'X']\n",
            "['.', 'X', 'O', 'O', 'X']\n",
            "['.', '.', '.', '.', '.']\n",
            "['O', '.', 'X', '.', 'X']\n",
            "Making next move...\n",
            "(0, 4, 'L')\n",
            "b'Valid move'\n",
            "['O', '.', '.', 'O', '.']\n",
            "['.', 'O', 'X', '.', '.']\n",
            "['X', '.', '.', 'O', 'X']\n",
            "['.', 'X', 'O', 'X', '.']\n",
            "['.', '.', '.', '.', '.']\n",
            "['O', '.', 'X', '.', 'X']\n",
            "Making next move...\n",
            "(3, 2, 'R')\n",
            "b'Valid move'\n",
            "['O', '.', '.', 'O', '.']\n",
            "['.', 'X', '.', '.', '.']\n",
            "['X', '.', '.', 'O', 'X']\n",
            "['.', 'X', '.', 'O', '.']\n",
            "['.', '.', '.', '.', '.']\n",
            "['O', '.', 'X', '.', 'X']\n",
            "Making next move...\n",
            "(2, 3, 'R')\n",
            "b'Valid move'\n",
            "['O', '.', '.', 'O', '.']\n",
            "['.', 'X', '.', '.', '.']\n",
            "['X', '.', '.', '.', 'O']\n",
            "['.', 'X', '.', 'O', '.']\n",
            "['.', '.', '.', '.', '.']\n",
            "['O', '.', 'X', '.', 'X']\n",
            "Server says your agent WON\n"
          ]
        }
      ],
      "source": [
        "game_loop(random_solver, Clobber, 'clobber', multi_player=False, id=None)"
      ]
    },
    {
      "cell_type": "markdown",
      "metadata": {
        "id": "OQZzICt_dOMu"
      },
      "source": [
        "# Solver V1"
      ]
    },
    {
      "cell_type": "code",
      "execution_count": 8,
      "metadata": {
        "id": "iSa-k12OdRaW"
      },
      "outputs": [],
      "source": [
        "def number_of_moves(input_board, player, other_player):\n",
        "  board = input_board.copy()\n",
        "  moves = 0\n",
        "  for row in range(len(board)):\n",
        "    for col in range(len(board[row])):\n",
        "      if board[row][col] == player:\n",
        "        if row + 1 < len(board) and board[row + 1][col] == other_player:\n",
        "          moves += 1\n",
        "        if col + 1 < len(board[row]) and board[row][col + 1] == other_player:\n",
        "          moves += 1\n",
        "        if row - 1 >= 0 and board[row - 1][col] == other_player:\n",
        "          moves += 1\n",
        "        if col - 1 >= 0 and board[row][col - 1] == other_player:\n",
        "          moves += 1\n",
        "  return moves\n",
        "\n",
        "def select_state_v1(board, player, other_player):\n",
        "  options_with_heuristic = {}\n",
        "  for row in range(len(board)):\n",
        "    for col in range(len(board[row])):\n",
        "      if board[row][col] == player:\n",
        "        if row + 1 < len(board) and board[row + 1][col] == other_player:\n",
        "          options_with_heuristic[(row, col, 'D')] = ((row, col, 'D'), move_preview_v1(board, player, other_player, (row, col, 'D')))\n",
        "        if col + 1 < len(board[row]) and board[row][col + 1] == other_player:\n",
        "          options_with_heuristic[(row, col, 'R')] = ((row, col, 'R'), move_preview_v1(board, player, other_player, (row, col, 'R')))\n",
        "        if row - 1 >= 0 and board[row - 1][col] == other_player:\n",
        "          options_with_heuristic[(row, col, 'U')] = ((row, col, 'U'), move_preview_v1(board, player, other_player, (row, col, 'U')))\n",
        "        if col - 1 >= 0 and board[row][col - 1] == other_player:\n",
        "          options_with_heuristic[(row, col, 'L')] = ((row, col, 'L'), move_preview_v1(board, player, other_player, (row, col, 'L')))\n",
        "  return min(options_with_heuristic, key=options_with_heuristic.get)\n",
        "\n",
        "def move_preview_v1(board, player, other_player, move):\n",
        "  new_board = board.copy()\n",
        "  new_board[move[0]][move[1]] = player\n",
        "  return number_of_moves(new_board, player, other_player)"
      ]
    },
    {
      "cell_type": "code",
      "execution_count": 9,
      "metadata": {
        "id": "3egAsleUdgBT"
      },
      "outputs": [],
      "source": [
        "def solver_v1(game):\n",
        "  board = game.get_board()\n",
        "  player = game.player\n",
        "  other_player = game.other_player()\n",
        "  return select_state_v1(board,player,other_player)"
      ]
    },
    {
      "cell_type": "markdown",
      "metadata": {
        "id": "_uygOxA9dkrc"
      },
      "source": [
        "# Solver V2"
      ]
    },
    {
      "cell_type": "code",
      "execution_count": 10,
      "metadata": {
        "id": "gXn3DJDgDXKg"
      },
      "outputs": [],
      "source": [
        "def number_of_moves(input_board, player, other_player):\n",
        "  board = input_board.copy()\n",
        "  moves = 0\n",
        "  for row in range(len(board)):\n",
        "    for col in range(len(board[row])):\n",
        "      if board[row][col] == player:\n",
        "        if row + 1 < len(board) and board[row + 1][col] == other_player:\n",
        "          moves += 1\n",
        "        if col + 1 < len(board[row]) and board[row][col + 1] == other_player:\n",
        "          moves += 1\n",
        "        if row - 1 >= 0 and board[row - 1][col] == other_player:\n",
        "          moves += 1\n",
        "        if col - 1 >= 0 and board[row][col - 1] == other_player:\n",
        "          moves += 1\n",
        "  return moves\n",
        "\n",
        "def select_state_v2(board, player, other_player):\n",
        "  options_with_heuristic = {}\n",
        "  for row in range(len(board)):\n",
        "    for col in range(len(board[row])):\n",
        "      if board[row][col] == player:\n",
        "        if row + 1 < len(board) and board[row + 1][col] == other_player:\n",
        "          options_with_heuristic[(row, col, 'D')] = ((row, col, 'D'), move_preview_v2(board, player, other_player, (row, col, 'D')))\n",
        "        if col + 1 < len(board[row]) and board[row][col + 1] == other_player:\n",
        "          options_with_heuristic[(row, col, 'R')] = ((row, col, 'R'), move_preview_v2(board, player, other_player, (row, col, 'R')))\n",
        "        if row - 1 >= 0 and board[row - 1][col] == other_player:\n",
        "          options_with_heuristic[(row, col, 'U')] = ((row, col, 'U'), move_preview_v2(board, player, other_player, (row, col, 'U')))\n",
        "        if col - 1 >= 0 and board[row][col - 1] == other_player:\n",
        "          options_with_heuristic[(row, col, 'L')] = ((row, col, 'L'), move_preview_v2(board, player, other_player, (row, col, 'L')))\n",
        "  return min(options_with_heuristic, key=options_with_heuristic.get)\n",
        "\n",
        "def move_preview_v2(board, player, other_player, move):\n",
        "  new_board = board.copy()\n",
        "  new_board[move[0]][move[1]] = player\n",
        "  if number_of_moves(new_board, other_player, player) == 0:\n",
        "    return 0\n",
        "  elif number_of_moves(new_board, player, other_player) > number_of_moves(new_board, other_player, player):\n",
        "    return number_of_moves(new_board, player, other_player) - number_of_moves(new_board, other_player, player)\n",
        "  else:\n",
        "    return number_of_moves(new_board, player, other_player)"
      ]
    },
    {
      "cell_type": "code",
      "execution_count": 11,
      "metadata": {
        "id": "QblX44FUBySF"
      },
      "outputs": [],
      "source": [
        "def solver_v2(game):\n",
        "  board = game.get_board()\n",
        "  player = game.player\n",
        "  other_player = game.other_player()\n",
        "  return select_state_v2(board,player,other_player)"
      ]
    },
    {
      "cell_type": "markdown",
      "metadata": {
        "id": "OgAZmaU-fv4V"
      },
      "source": [
        "# Solver V3"
      ]
    },
    {
      "cell_type": "code",
      "execution_count": 12,
      "metadata": {
        "id": "x9_QTC6iHjgD"
      },
      "outputs": [],
      "source": [
        "def number_of_moves(input_board, player, other_player):\n",
        "  board = deepcopy(input_board)\n",
        "  moves = 0\n",
        "  for row in range(len(board)):\n",
        "    for col in range(len(board[row])):\n",
        "      if board[row][col] == player:\n",
        "        if row + 1 < len(board) and board[row + 1][col] == other_player:\n",
        "          moves += 1\n",
        "        if col + 1 < len(board[row]) and board[row][col + 1] == other_player:\n",
        "          moves += 1\n",
        "        if row - 1 >= 0 and board[row - 1][col] == other_player:\n",
        "          moves += 1\n",
        "        if col - 1 >= 0 and board[row][col - 1] == other_player:\n",
        "          moves += 1\n",
        "  return moves\n",
        "\n",
        "def available_moves(input_board, player, other_player):\n",
        "  board = deepcopy(input_board)\n",
        "  a_moves = []\n",
        "  for row in range(len(board)):\n",
        "    for col in range(len(board[row])):\n",
        "      if board[row][col] == player:\n",
        "        if row + 1 < len(board) and board[row + 1][col] == other_player:\n",
        "          a_moves.append((row, col, 'D'))\n",
        "        if col + 1 < len(board[row]) and board[row][col + 1] == other_player:\n",
        "          a_moves.append((row, col, 'R'))\n",
        "        if row - 1 >= 0 and board[row - 1][col] == other_player:\n",
        "          a_moves.append((row, col, 'U'))\n",
        "        if col - 1 >= 0 and board[row][col - 1] == other_player:\n",
        "          a_moves.append((row, col, 'L'))\n",
        "  return a_moves\n",
        "\n",
        "def move_preview_v3(input_board, player, move):\n",
        "  board = deepcopy(input_board)\n",
        "  board[move[0]][move[1]] = '.'\n",
        "  if move[2] == 'D':\n",
        "    board[move[0] + 1][move[1]] = player\n",
        "  if move[2] == 'R':\n",
        "    board[move[0]][move[1] + 1] = player\n",
        "  if move[2] == 'U':\n",
        "    board[move[0] - 1][move[1]] = player\n",
        "  if move[2] == 'L':\n",
        "    board[move[0]][move[1] - 1] = player\n",
        "  return board"
      ]
    },
    {
      "cell_type": "code",
      "execution_count": 13,
      "metadata": {
        "id": "Im9YRgn0fzxj"
      },
      "outputs": [],
      "source": [
        "'''\n",
        "function MINIMAX-SEARCH(game, state) returns an action\n",
        "  player ←game.TO-MOVE(state)\n",
        "  value, move ← MAX-VALUE(game, state)\n",
        "  return move\n",
        "\n",
        "function MAX-VALUE(game, state) returns a (utility, move) pair\n",
        "  if game.IS-TERMINAL(state) then return game.UTILITY(state, player ), null\n",
        "  v ← −∞\n",
        "  for each a in game.ACTIONS(state) do\n",
        "    v2 , a2 ← MIN-VALUE(game, game.RESULT(state, a))\n",
        "    if v2 > v then\n",
        "      v, move ← v2 , a\n",
        "  return v, move\n",
        "    \n",
        "function MIN-VALUE(game, state) returns a (utility, move) pair\n",
        "  if game.IS-TERMINAL(state) then return game.UTILITY(state, player ), null\n",
        "  v ← +∞\n",
        "  for each a in game.ACTIONS(state) do\n",
        "    v2 , a2 ← MAX-VALUE(game, game.RESULT(state, a))\n",
        "    if v2 < v then\n",
        "      v, move ← v2 , a\n",
        "  return v, move\n",
        "'''\n",
        "\n",
        "def solver_v3(game):\n",
        "  board = game.get_board()\n",
        "  player = game.player\n",
        "  other_player = game.other_player()\n",
        "  value, move = max_value(board, player, other_player)\n",
        "  return move\n",
        "\n",
        "def max_value(board, player, other_player):\n",
        "  if number_of_moves(board, player, other_player) == 0:\n",
        "    return -1, None\n",
        "  if number_of_moves(board, other_player, player) == 0:\n",
        "    return 1, None\n",
        "  value = -100\n",
        "  move = None\n",
        "  for action in available_moves(board, player, other_player):\n",
        "    v2, a2 = min_value(move_preview_v3(board, player, action), other_player, player)\n",
        "    if v2 > value:\n",
        "      value, move = v2, action\n",
        "  return value, move\n",
        "  \n",
        "def min_value(board, player, other_player):\n",
        "  if number_of_moves(board, player, other_player) == 0:\n",
        "    return 1, None\n",
        "  if number_of_moves(board, other_player, player) == 0:\n",
        "    return -1, None\n",
        "  value = 100\n",
        "  move = None\n",
        "  for action in available_moves(board, player, other_player):\n",
        "    v2, a2 = max_value(move_preview_v3(board, player, action), other_player, player)\n",
        "    if v2 < value:\n",
        "      value, move = v2, action\n",
        "  return value, move"
      ]
    },
    {
      "cell_type": "markdown",
      "metadata": {
        "id": "IbB45ud3gcqh"
      },
      "source": [
        "# Solver V4"
      ]
    },
    {
      "cell_type": "code",
      "execution_count": 14,
      "metadata": {
        "id": "uqrVveRFgxN9"
      },
      "outputs": [],
      "source": [
        "def number_of_moves(input_board, player, other_player):\n",
        "  board = input_board.copy()\n",
        "  moves = 0\n",
        "  for row in range(len(board)):\n",
        "    for col in range(len(board[row])):\n",
        "      if board[row][col] == player:\n",
        "        if row + 1 < len(board) and board[row + 1][col] == other_player:\n",
        "          moves += 1\n",
        "        if col + 1 < len(board[row]) and board[row][col + 1] == other_player:\n",
        "          moves += 1\n",
        "        if row - 1 >= 0 and board[row - 1][col] == other_player:\n",
        "          moves += 1\n",
        "        if col - 1 >= 0 and board[row][col - 1] == other_player:\n",
        "          moves += 1\n",
        "  return moves\n",
        "\n",
        "def select_state_v4(board, player, other_player):\n",
        "  options_with_heuristic = {}\n",
        "  for row in range(len(board)):\n",
        "    for col in range(len(board[row])):\n",
        "      if board[row][col] == player:\n",
        "        if row + 1 < len(board) and board[row + 1][col] == other_player:\n",
        "          options_with_heuristic[(row, col, 'D')] = ((row, col, 'D'), move_preview_v4(board, player, other_player, (row, col, 'D')))\n",
        "        if col + 1 < len(board[row]) and board[row][col + 1] == other_player:\n",
        "          options_with_heuristic[(row, col, 'R')] = ((row, col, 'R'), move_preview_v4(board, player, other_player, (row, col, 'R')))\n",
        "        if row - 1 >= 0 and board[row - 1][col] == other_player:\n",
        "          options_with_heuristic[(row, col, 'U')] = ((row, col, 'U'), move_preview_v4(board, player, other_player, (row, col, 'U')))\n",
        "        if col - 1 >= 0 and board[row][col - 1] == other_player:\n",
        "          options_with_heuristic[(row, col, 'L')] = ((row, col, 'L'), move_preview_v4(board, player, other_player, (row, col, 'L')))\n",
        "  return min(options_with_heuristic, key=options_with_heuristic.get)\n",
        "\n",
        "def move_preview_v4(board, player, other_player, move):\n",
        "  new_board = board.copy()\n",
        "  new_board[move[0]][move[1]] = player\n",
        "  return number_of_moves(new_board, other_player, player)"
      ]
    },
    {
      "cell_type": "code",
      "execution_count": 15,
      "metadata": {
        "id": "D6cmiBrHg4Xt"
      },
      "outputs": [],
      "source": [
        "def solver_v4(game):\n",
        "  board = game.get_board()\n",
        "  player = game.player\n",
        "  other_player = game.other_player()\n",
        "  return select_state_v4(board,player,other_player)"
      ]
    },
    {
      "cell_type": "markdown",
      "metadata": {
        "id": "NdZozFbeB-GC"
      },
      "source": [
        "# Solver V5"
      ]
    },
    {
      "cell_type": "code",
      "execution_count": 16,
      "metadata": {
        "id": "4OmQfj3zCCgH"
      },
      "outputs": [],
      "source": [
        "def number_of_moves(input_board, player, other_player):\n",
        "  board = input_board.copy()\n",
        "  moves = 0\n",
        "  for row in range(len(board)):\n",
        "    for col in range(len(board[row])):\n",
        "      if board[row][col] == player:\n",
        "        if row + 1 < len(board) and board[row + 1][col] == other_player:\n",
        "          moves += 1\n",
        "        if col + 1 < len(board[row]) and board[row][col + 1] == other_player:\n",
        "          moves += 1\n",
        "        if row - 1 >= 0 and board[row - 1][col] == other_player:\n",
        "          moves += 1\n",
        "        if col - 1 >= 0 and board[row][col - 1] == other_player:\n",
        "          moves += 1\n",
        "  return moves\n",
        "\n",
        "def select_state_v5_1(board, player, other_player):\n",
        "  options_with_heuristic = {}\n",
        "  for row in range(len(board)):\n",
        "    for col in range(len(board[row])):\n",
        "      if board[row][col] == player:\n",
        "        if row + 1 < len(board) and board[row + 1][col] == other_player:\n",
        "          options_with_heuristic[(row, col, 'D')] = ((row, col, 'D'), move_preview_v5_1(board, player, other_player, (row, col, 'D')))\n",
        "        if col + 1 < len(board[row]) and board[row][col + 1] == other_player:\n",
        "          options_with_heuristic[(row, col, 'R')] = ((row, col, 'R'), move_preview_v5_1(board, player, other_player, (row, col, 'R')))\n",
        "        if row - 1 >= 0 and board[row - 1][col] == other_player:\n",
        "          options_with_heuristic[(row, col, 'U')] = ((row, col, 'U'), move_preview_v5_1(board, player, other_player, (row, col, 'U')))\n",
        "        if col - 1 >= 0 and board[row][col - 1] == other_player:\n",
        "          options_with_heuristic[(row, col, 'L')] = ((row, col, 'L'), move_preview_v5_1(board, player, other_player, (row, col, 'L')))\n",
        "  return min(options_with_heuristic, key=options_with_heuristic.get)\n",
        "\n",
        "def move_preview_v5_1(board, player, other_player, move):\n",
        "  new_board = board.copy()\n",
        "  new_board[move[0]][move[1]] = player\n",
        "  return number_of_moves(new_board, other_player, player)\n",
        "\n",
        "def select_state_v5_2(board, player, other_player):\n",
        "  options_with_heuristic = {}\n",
        "  for row in range(len(board)):\n",
        "    for col in range(len(board[row])):\n",
        "      if board[row][col] == player:\n",
        "        if row + 1 < len(board) and board[row + 1][col] == other_player:\n",
        "          options_with_heuristic[(row, col, 'D')] = ((row, col, 'D'), move_preview_v5_2(board, player, other_player, (row, col, 'D')))\n",
        "        if col + 1 < len(board[row]) and board[row][col + 1] == other_player:\n",
        "          options_with_heuristic[(row, col, 'R')] = ((row, col, 'R'), move_preview_v5_2(board, player, other_player, (row, col, 'R')))\n",
        "        if row - 1 >= 0 and board[row - 1][col] == other_player:\n",
        "          options_with_heuristic[(row, col, 'U')] = ((row, col, 'U'), move_preview_v5_2(board, player, other_player, (row, col, 'U')))\n",
        "        if col - 1 >= 0 and board[row][col - 1] == other_player:\n",
        "          options_with_heuristic[(row, col, 'L')] = ((row, col, 'L'), move_preview_v5_2(board, player, other_player, (row, col, 'L')))\n",
        "  return max(options_with_heuristic, key=options_with_heuristic.get)\n",
        "\n",
        "def move_preview_v5_2(board, player, other_player, move):\n",
        "  new_board = board.copy()\n",
        "  new_board[move[0]][move[1]] = player\n",
        "  return number_of_moves(new_board, player, other_player)"
      ]
    },
    {
      "cell_type": "code",
      "execution_count": 17,
      "metadata": {
        "id": "1RCPkyPwCQX8"
      },
      "outputs": [],
      "source": [
        "def solver_v5(game):\n",
        "  board = game.get_board()\n",
        "  player = game.player\n",
        "  other_player = game.other_player()\n",
        "  player_moves = number_of_moves(board, player, other_player)\n",
        "  other_player_moves = number_of_moves(board, other_player, player)\n",
        "  if player_moves > other_player_moves:\n",
        "    return select_state_v5_1(board,player,other_player)\n",
        "  else:\n",
        "    return select_state_v5_2(board,player,other_player)"
      ]
    },
    {
      "cell_type": "markdown",
      "source": [
        "# Solver V6"
      ],
      "metadata": {
        "id": "0vKHdIwpYvy_"
      }
    },
    {
      "cell_type": "code",
      "execution_count": 18,
      "metadata": {
        "id": "1ElsMwl1Mb2y"
      },
      "outputs": [],
      "source": [
        "#rafal's algorithm \n",
        "\n",
        "def solver_v3_v6(board, player, other_player):\n",
        "  value, move = max_value(board, player, other_player)\n",
        "  return move\n",
        "\n",
        "def random_solver_v6(board, player, other_player):\n",
        "  opts = []\n",
        "  for row in range(len(board)):\n",
        "    for col in range(len(board[row])):\n",
        "      if board[row][col] == player:\n",
        "        if row + 1 < len(board) and board[row + 1][col] == other_player:\n",
        "          opts.append((row, col, 'D'))\n",
        "        if col + 1 < len(board[row]) and board[row][col + 1] == other_player:\n",
        "          opts.append((row, col, 'R'))\n",
        "        if row - 1 >= 0 and board[row - 1][col] == other_player:\n",
        "          opts.append((row, col, 'U'))\n",
        "        if col - 1 >= 0 and board[row][col - 1] == other_player:\n",
        "          opts.append((row, col, 'L'))\n",
        "  return opts[random.randint(0, len(opts) - 1)]\n",
        "\n",
        "def solver_v6(game):\n",
        "  board = game.get_board()\n",
        "  player = game.player\n",
        "  other_player = game.other_player()\n",
        "  moveitos = number_of_moves(board, player, other_player)\n",
        "  if moveitos > 21:\n",
        "    return random_solver_v6(board, player, other_player)\n",
        "\n",
        "  else:\n",
        "    return solver_v3_v6(board, player, other_player)\n"
      ]
    },
    {
      "cell_type": "markdown",
      "source": [
        "# Solver V7"
      ],
      "metadata": {
        "id": "bNEJp3pzZFUk"
      }
    },
    {
      "cell_type": "code",
      "source": [
        "def number_of_moves(input_board, player, other_player):\n",
        "  board = input_board.copy()\n",
        "  moves = 0\n",
        "  for row in range(len(board)):\n",
        "    for col in range(len(board[row])):\n",
        "      if board[row][col] == player:\n",
        "        if row + 1 < len(board) and board[row + 1][col] == other_player:\n",
        "          moves += 1\n",
        "        if col + 1 < len(board[row]) and board[row][col + 1] == other_player:\n",
        "          moves += 1\n",
        "        if row - 1 >= 0 and board[row - 1][col] == other_player:\n",
        "          moves += 1\n",
        "        if col - 1 >= 0 and board[row][col - 1] == other_player:\n",
        "          moves += 1\n",
        "  return moves\n",
        "\n",
        "def select_state_v7_1(board, player, other_player):\n",
        "  options_with_heuristic = {}\n",
        "  for row in range(len(board)):\n",
        "    for col in range(len(board[row])):\n",
        "      if board[row][col] == player:\n",
        "        if row + 1 < len(board) and board[row + 1][col] == other_player:\n",
        "          options_with_heuristic[(row, col, 'D')] = ((row, col, 'D'), move_preview_v7_1(board, player, other_player, (row, col, 'D')))\n",
        "        if col + 1 < len(board[row]) and board[row][col + 1] == other_player:\n",
        "          options_with_heuristic[(row, col, 'R')] = ((row, col, 'R'), move_preview_v7_1(board, player, other_player, (row, col, 'R')))\n",
        "        if row - 1 >= 0 and board[row - 1][col] == other_player:\n",
        "          options_with_heuristic[(row, col, 'U')] = ((row, col, 'U'), move_preview_v7_1(board, player, other_player, (row, col, 'U')))\n",
        "        if col - 1 >= 0 and board[row][col - 1] == other_player:\n",
        "          options_with_heuristic[(row, col, 'L')] = ((row, col, 'L'), move_preview_v7_1(board, player, other_player, (row, col, 'L')))\n",
        "  return min(options_with_heuristic, key=options_with_heuristic.get)\n",
        "\n",
        "def move_preview_v7_1(board, player, other_player, move):\n",
        "  new_board = board.copy()\n",
        "  new_board[move[0]][move[1]] = player\n",
        "  if number_of_moves(new_board, other_player, player) == 0:\n",
        "    return 0\n",
        "  else:\n",
        "    return number_of_moves(new_board, other_player, player)\n",
        "\n",
        "def select_state_v7_2(board, player, other_player):\n",
        "  options_with_heuristic = {}\n",
        "  for row in range(len(board)):\n",
        "    for col in range(len(board[row])):\n",
        "      if board[row][col] == player:\n",
        "        if row + 1 < len(board) and board[row + 1][col] == other_player:\n",
        "          options_with_heuristic[(row, col, 'D')] = ((row, col, 'D'), move_preview_v7_2(board, player, other_player, (row, col, 'D')))\n",
        "        if col + 1 < len(board[row]) and board[row][col + 1] == other_player:\n",
        "          options_with_heuristic[(row, col, 'R')] = ((row, col, 'R'), move_preview_v7_2(board, player, other_player, (row, col, 'R')))\n",
        "        if row - 1 >= 0 and board[row - 1][col] == other_player:\n",
        "          options_with_heuristic[(row, col, 'U')] = ((row, col, 'U'), move_preview_v7_2(board, player, other_player, (row, col, 'U')))\n",
        "        if col - 1 >= 0 and board[row][col - 1] == other_player:\n",
        "          options_with_heuristic[(row, col, 'L')] = ((row, col, 'L'), move_preview_v7_2(board, player, other_player, (row, col, 'L')))\n",
        "  return max(options_with_heuristic, key=options_with_heuristic.get)\n",
        "\n",
        "def move_preview_v7_2(board, player, other_player, move):\n",
        "  new_board = board.copy()\n",
        "  new_board[move[0]][move[1]] = player\n",
        "  if number_of_moves(new_board, player, other_player) == 0:\n",
        "    return 0\n",
        "  else:\n",
        "    return number_of_moves(new_board, player, other_player)\n",
        "\n",
        "def solver_v7(game):\n",
        "  board = game.get_board()\n",
        "  player = game.player\n",
        "  other_player = game.other_player()\n",
        "  player_moves = number_of_moves(board, player, other_player)\n",
        "  other_player_moves = number_of_moves(board, other_player, player)\n",
        "  if player_moves > other_player_moves:\n",
        "    return select_state_v7_2(board,player,other_player)\n",
        "  else:\n",
        "    return select_state_v7_1(board,player,other_player)"
      ],
      "metadata": {
        "id": "zZqsfzBCZER7"
      },
      "execution_count": 19,
      "outputs": []
    },
    {
      "cell_type": "markdown",
      "source": [
        "# Solver V8"
      ],
      "metadata": {
        "id": "NzHq8yQbZICh"
      }
    },
    {
      "cell_type": "code",
      "execution_count": 20,
      "metadata": {
        "id": "jv7N7yaJn21P"
      },
      "outputs": [],
      "source": [
        "#scorpu2\n",
        "\n",
        "def solver_v8(game):\n",
        "  board = game.get_board()\n",
        "  player = game.player\n",
        "  other_player = game.other_player()\n",
        "  dict_moves = {}\n",
        "  for row in range(len(board)):\n",
        "      for col in range(len(board[row])):\n",
        "        if board[row][col] == player:\n",
        "          moves_count = 0\n",
        "          if row + 1 < len(board) and board[row + 1][col] == other_player:\n",
        "            moves_count += moves_count + 1\n",
        "          if col + 1 < len(board[row]) and board[row][col + 1] == other_player:\n",
        "            moves_count += moves_count + 1\n",
        "          if row - 1 >= 0 and board[row - 1][col] == other_player:\n",
        "            moves_count += moves_count + 1\n",
        "          if col - 1 >= 0 and board[row][col - 1] == other_player:\n",
        "            moves_count += moves_count + 1\n",
        "          dict_moves[(row, col)] = moves_count\n",
        "\n",
        "        else:\n",
        "          dict_moves[(row, col)] = 0\n",
        "\n",
        "  s = max(dict_moves, key=dict_moves.get)\n",
        "  moves = []\n",
        "  row = s[0]\n",
        "  col = s[1]\n",
        "  if board[row][col] == player:\n",
        "        if row + 1 < len(board) and board[row + 1][col] == other_player:\n",
        "          moves.append((row, col, 'D'))\n",
        "        if col + 1 < len(board[row]) and board[row][col + 1] == other_player:\n",
        "          moves.append((row, col, 'R'))\n",
        "        if row - 1 >= 0 and board[row - 1][col] == other_player:\n",
        "          moves.append((row, col, 'U'))\n",
        "        if col - 1 >= 0 and board[row][col - 1] == other_player:\n",
        "          moves.append((row, col, 'L'))\n",
        "  return moves[random.randint(0, len(moves) - 1)]"
      ]
    },
    {
      "cell_type": "markdown",
      "source": [
        "# Solver V9 (Broken)"
      ],
      "metadata": {
        "id": "K3JTEJRH_UFT"
      }
    },
    {
      "cell_type": "code",
      "source": [
        "'''\n",
        "function alphabeta(node, depth, α, β, maximizingPlayer) is\n",
        "    if depth = 0 or node is a terminal node then\n",
        "        return the heuristic value of node\n",
        "    if maximizingPlayer then\n",
        "        value := −∞\n",
        "        for each child of node do\n",
        "            value := max(value, alphabeta(child, depth − 1, α, β, FALSE))\n",
        "            if value ≥ β then\n",
        "                break (* β cutoff *)\n",
        "            α := max(α, value)\n",
        "        return value\n",
        "    else\n",
        "        value := +∞\n",
        "        for each child of node do\n",
        "            value := min(value, alphabeta(child, depth − 1, α, β, TRUE))\n",
        "            if value ≤ α then\n",
        "                break (* α cutoff *)\n",
        "            β := min(β, value)\n",
        "        return value\n",
        "'''\n",
        "\n",
        "def solver_v9(game):\n",
        "  board = game.get_board()\n",
        "  player = game.player\n",
        "  other_player = game.other_player()\n",
        "  move = max_value_v9(board, player, other_player, -100000, 100000)\n",
        "  print(move)\n",
        "  return move[1]\n",
        "\n",
        "def max_value_v9(board, player, other_player, alpha, beta):\n",
        "  if number_of_moves(board, player, other_player) == 0:\n",
        "    return (-1, None)\n",
        "  if number_of_moves(board, other_player, player) == 0:\n",
        "    return (1, None)\n",
        "  value = -100\n",
        "  for move in available_moves(board, player, other_player):\n",
        "    minimum = min_value_v9(move_preview_v3(board, player, move), other_player, player, alpha, beta)\n",
        "    maximum = max(value, minimum[0])\n",
        "    if maximum == minimum[0]:\n",
        "      move = minimum[1]\n",
        "    value = maximum\n",
        "    if value >= beta:\n",
        "      break\n",
        "    alpha = max(alpha, value)\n",
        "  return (value, move)\n",
        "  \n",
        "def min_value_v9(board, player, other_player, alpha, beta):\n",
        "  if number_of_moves(board, player, other_player) == 0:\n",
        "    return (1, None)\n",
        "  if number_of_moves(board, other_player, player) == 0:\n",
        "    return (-1, None)\n",
        "  value = 100\n",
        "  for move in available_moves(board, player, other_player):\n",
        "    maximum = max_value_v9(move_preview_v3(board, player, move), other_player, player, alpha, beta)\n",
        "    minimum = min(value, maximum[0])\n",
        "    if minimum == maximum[0]:\n",
        "      move = maximum[1]\n",
        "    value = minimum\n",
        "    if value <= alpha:\n",
        "      break\n",
        "    beta = min(alpha, value)\n",
        "  return (value, move)\n"
      ],
      "metadata": {
        "id": "jaBjffyC_WFe"
      },
      "execution_count": 21,
      "outputs": []
    },
    {
      "cell_type": "markdown",
      "source": [
        "# Solver V10"
      ],
      "metadata": {
        "id": "y2-NWfq50aJH"
      }
    },
    {
      "cell_type": "code",
      "source": [
        "def number_of_moves(input_board, player, other_player):\n",
        "  board = deepcopy(input_board)\n",
        "  moves = 0\n",
        "  for row in range(len(board)):\n",
        "    for col in range(len(board[row])):\n",
        "      if board[row][col] == player:\n",
        "        if row + 1 < len(board) and board[row + 1][col] == other_player:\n",
        "          moves += 1\n",
        "        if col + 1 < len(board[row]) and board[row][col + 1] == other_player:\n",
        "          moves += 1\n",
        "        if row - 1 >= 0 and board[row - 1][col] == other_player:\n",
        "          moves += 1\n",
        "        if col - 1 >= 0 and board[row][col - 1] == other_player:\n",
        "          moves += 1\n",
        "  return moves\n",
        "\n",
        "def move_preview_v10(input_board, player, move):\n",
        "  board = deepcopy(input_board)\n",
        "  board[move[0]][move[1]] = '.'\n",
        "  if move[2] == 'D':\n",
        "    board[move[0] + 1][move[1]] = player\n",
        "  if move[2] == 'R':\n",
        "    board[move[0]][move[1] + 1] = player\n",
        "  if move[2] == 'U':\n",
        "    board[move[0] - 1][move[1]] = player\n",
        "  if move[2] == 'L':\n",
        "    board[move[0]][move[1] - 1] = player\n",
        "  return board\n",
        "\n",
        "def solver_v10(game):\n",
        "  board = game.get_board()\n",
        "  player = game.player\n",
        "  other_player = game.other_player()\n",
        "  value, move, adv = max_value_v10(board, 3, player, other_player)\n",
        "  return move\n",
        "\n",
        "def max_value_v10(board, depth, player, other_player):\n",
        "  my_moves = number_of_moves(board, player, other_player)\n",
        "  other_moves = number_of_moves(board, other_player, player)\n",
        "  if depth == 0:\n",
        "    if my_moves > other_moves:\n",
        "      return 1, None, my_moves-other_moves\n",
        "    else:\n",
        "      return -1, None, my_moves-other_moves\n",
        "  if my_moves == 0:\n",
        "    return -1, None, other_moves\n",
        "  if other_moves == 0:\n",
        "    return 1, None, 0\n",
        "  value = -100\n",
        "  move = None\n",
        "  advantage_moves = 0\n",
        "  win_options = {}\n",
        "  lose_with_honor = {}\n",
        "  for action in available_moves(board, player, other_player):\n",
        "    preview = move_preview_v10(board, player, action)\n",
        "    v2, a2, m2 = min_value_v10(preview, depth-1, other_player, player)\n",
        "    if v2 == 1:\n",
        "      win_options[action] = number_of_moves(preview, player, other_player)-number_of_moves(preview, other_player, player)\n",
        "    elif v2 == -1:\n",
        "      lose_with_honor[action] = number_of_moves(preview, player, other_player)-number_of_moves(preview, other_player, player)\n",
        "  if len(win_options) == 0:\n",
        "    move = max(lose_with_honor, key=lose_with_honor.get)\n",
        "    advantage_moves = lose_with_honor[move]\n",
        "  else:\n",
        "    move = max(win_options, key=win_options.get)\n",
        "    advantage_moves = win_options[move]\n",
        "  value = v2\n",
        "  return value, move, advantage_moves\n",
        "  \n",
        "def min_value_v10(board, depth, player, other_player):\n",
        "  my_moves = number_of_moves(board, player, other_player)\n",
        "  other_moves = number_of_moves(board, other_player, player)\n",
        "  if depth == 0:\n",
        "    if my_moves > other_moves:\n",
        "      return -1, None, other_moves-my_moves\n",
        "    else:\n",
        "      return 1, None, other_moves-my_moves\n",
        "  if my_moves == 0:\n",
        "    return 1, None, 0\n",
        "  if other_moves == 0:\n",
        "    return -1, None, my_moves\n",
        "  value = 100\n",
        "  move = None\n",
        "  advantage_moves = 0\n",
        "  win_options = {}\n",
        "  lose_with_honor = {}\n",
        "  for action in available_moves(board, player, other_player):\n",
        "    preview = move_preview_v10(board, player, action)\n",
        "    v2, a2, m2 = max_value_v10(preview, depth-1, other_player, player)\n",
        "    if v2 == -1:\n",
        "      win_options[action] = number_of_moves(preview, other_player, player)-number_of_moves(preview, player, other_player)\n",
        "    elif v2 == 1:\n",
        "      lose_with_honor[action] = number_of_moves(preview, other_player, player)-number_of_moves(preview, player, other_player)\n",
        "  if len(win_options) == 0:\n",
        "    move = min(lose_with_honor, key=lose_with_honor.get)\n",
        "    advantage_moves = lose_with_honor[move]\n",
        "  else:\n",
        "    move = min(win_options, key=win_options.get)\n",
        "    advantage_moves = win_options[move]\n",
        "  value = v2\n",
        "  return value, move, advantage_moves"
      ],
      "metadata": {
        "id": "scE8Sk8P0dSM"
      },
      "execution_count": 22,
      "outputs": []
    },
    {
      "cell_type": "markdown",
      "source": [
        "# Solver V11"
      ],
      "metadata": {
        "id": "H3YX2SV5vurq"
      }
    },
    {
      "cell_type": "code",
      "source": [
        "def number_of_moves(input_board, player, other_player):\n",
        "  board = deepcopy(input_board)\n",
        "  moves = 0\n",
        "  for row in range(len(board)):\n",
        "    for col in range(len(board[row])):\n",
        "      if board[row][col] == player:\n",
        "        if row + 1 < len(board) and board[row + 1][col] == other_player:\n",
        "          moves += 1\n",
        "        if col + 1 < len(board[row]) and board[row][col + 1] == other_player:\n",
        "          moves += 1\n",
        "        if row - 1 >= 0 and board[row - 1][col] == other_player:\n",
        "          moves += 1\n",
        "        if col - 1 >= 0 and board[row][col - 1] == other_player:\n",
        "          moves += 1\n",
        "  return moves\n",
        "\n",
        "def available_moves(input_board, player, other_player):\n",
        "  board = deepcopy(input_board)\n",
        "  a_moves = []\n",
        "  for row in range(len(board)):\n",
        "    for col in range(len(board[row])):\n",
        "      if board[row][col] == player:\n",
        "        if row + 1 < len(board) and board[row + 1][col] == other_player:\n",
        "          a_moves.append((row, col, 'D'))\n",
        "        if col + 1 < len(board[row]) and board[row][col + 1] == other_player:\n",
        "          a_moves.append((row, col, 'R'))\n",
        "        if row - 1 >= 0 and board[row - 1][col] == other_player:\n",
        "          a_moves.append((row, col, 'U'))\n",
        "        if col - 1 >= 0 and board[row][col - 1] == other_player:\n",
        "          a_moves.append((row, col, 'L'))\n",
        "  return a_moves\n",
        "\n",
        "def move_preview_v11(input_board, player, move):\n",
        "  board = deepcopy(input_board)\n",
        "  board[move[0]][move[1]] = '.'\n",
        "  if move[2] == 'D':\n",
        "    board[move[0] + 1][move[1]] = player\n",
        "  if move[2] == 'R':\n",
        "    board[move[0]][move[1] + 1] = player\n",
        "  if move[2] == 'U':\n",
        "    board[move[0] - 1][move[1]] = player\n",
        "  if move[2] == 'L':\n",
        "    board[move[0]][move[1] - 1] = player\n",
        "  return board\n",
        "\n",
        "def solver_v11(game):\n",
        "  board = game.get_board()\n",
        "  player = game.player\n",
        "  other_player = game.other_player()\n",
        "  value, move = max_value_v11(board, 3, player, other_player)\n",
        "  return move\n",
        "\n",
        "def max_value_v11(board, depth, player, other_player):\n",
        "  my_moves = number_of_moves(board, player, other_player)\n",
        "  other_moves = number_of_moves(board, other_player, player)\n",
        "  if depth == 0:\n",
        "    if my_moves > other_moves:\n",
        "      return 1, None\n",
        "    else:\n",
        "      return -1, None\n",
        "  if my_moves == 0:\n",
        "    return -1, None\n",
        "  if other_moves == 0:\n",
        "    return 1, None\n",
        "  value = -100\n",
        "  move = None\n",
        "  for action in available_moves(board, player, other_player):\n",
        "    v2, a2 = min_value_v11(move_preview_v11(board, player, action), depth-1, other_player, player)\n",
        "    if v2 > value:\n",
        "      value, move = v2, action\n",
        "  return value, move\n",
        "  \n",
        "def min_value_v11(board, depth, player, other_player):\n",
        "  my_moves = number_of_moves(board, player, other_player)\n",
        "  other_moves = number_of_moves(board, other_player, player)\n",
        "  if depth == 0:\n",
        "    if my_moves > other_moves:\n",
        "      return -1, None\n",
        "    else:\n",
        "      return 1, None\n",
        "  if my_moves == 0:\n",
        "    return 1, None\n",
        "  if other_moves == 0:\n",
        "    return -1, None\n",
        "  value = 100\n",
        "  move = None\n",
        "  for action in available_moves(board, player, other_player):\n",
        "    v2, a2 = max_value_v11(move_preview_v11(board, player, action), depth-1, other_player, player)\n",
        "    if v2 < value:\n",
        "      value, move = v2, action\n",
        "  return value, move"
      ],
      "metadata": {
        "id": "Nw8FHYNFvxls"
      },
      "execution_count": 23,
      "outputs": []
    },
    {
      "cell_type": "markdown",
      "source": [
        "# Solver V12 (The Chosen One)"
      ],
      "metadata": {
        "id": "1AA8Tu7um8lF"
      }
    },
    {
      "cell_type": "code",
      "source": [
        "def number_of_moves(input_board, player, other_player):\n",
        "  board = deepcopy(input_board)\n",
        "  moves = 0\n",
        "  for row in range(len(board)):\n",
        "    for col in range(len(board[row])):\n",
        "      if board[row][col] == player:\n",
        "        if row + 1 < len(board) and board[row + 1][col] == other_player:\n",
        "          moves += 1\n",
        "        if col + 1 < len(board[row]) and board[row][col + 1] == other_player:\n",
        "          moves += 1\n",
        "        if row - 1 >= 0 and board[row - 1][col] == other_player:\n",
        "          moves += 1\n",
        "        if col - 1 >= 0 and board[row][col - 1] == other_player:\n",
        "          moves += 1\n",
        "  return moves\n",
        "\n",
        "def available_moves(input_board, player, other_player):\n",
        "  board = deepcopy(input_board)\n",
        "  a_moves = []\n",
        "  for row in range(len(board)):\n",
        "    for col in range(len(board[row])):\n",
        "      if board[row][col] == player:\n",
        "        if row + 1 < len(board) and board[row + 1][col] == other_player:\n",
        "          a_moves.append((row, col, 'D'))\n",
        "        if col + 1 < len(board[row]) and board[row][col + 1] == other_player:\n",
        "          a_moves.append((row, col, 'R'))\n",
        "        if row - 1 >= 0 and board[row - 1][col] == other_player:\n",
        "          a_moves.append((row, col, 'U'))\n",
        "        if col - 1 >= 0 and board[row][col - 1] == other_player:\n",
        "          a_moves.append((row, col, 'L'))\n",
        "  return a_moves\n",
        "\n",
        "def move_preview_v12(input_board, player, move):\n",
        "  board = deepcopy(input_board)\n",
        "  board[move[0]][move[1]] = '.'\n",
        "  if move[2] == 'D':\n",
        "    board[move[0] + 1][move[1]] = player\n",
        "  if move[2] == 'R':\n",
        "    board[move[0]][move[1] + 1] = player\n",
        "  if move[2] == 'U':\n",
        "    board[move[0] - 1][move[1]] = player\n",
        "  if move[2] == 'L':\n",
        "    board[move[0]][move[1] - 1] = player\n",
        "  return board\n",
        "\n",
        "def solver_v12(game):\n",
        "  board = game.get_board()\n",
        "  player = game.player\n",
        "  other_player = game.other_player()\n",
        "  value, move, adv = max_value_v12(board, 3, player, other_player)\n",
        "  return move\n",
        "\n",
        "def max_value_v12(board, depth, player, other_player):\n",
        "  my_moves = number_of_moves(board, player, other_player)\n",
        "  other_moves = number_of_moves(board, other_player, player)\n",
        "  if depth == 0:\n",
        "    if my_moves > other_moves:\n",
        "      return 1, None, other_moves\n",
        "    else:\n",
        "      return -1, None, other_moves\n",
        "  if my_moves == 0:\n",
        "    return -1, None, other_moves\n",
        "  if other_moves == 0:\n",
        "    return 1, None, 0\n",
        "  win_options = {}\n",
        "  lose_with_honor = {}\n",
        "  for action in available_moves(board, player, other_player):\n",
        "    preview = move_preview_v12(board, player, action)\n",
        "    v2, a2, m2 = min_value_v12(preview, depth-1, other_player, player)\n",
        "    if v2 == 1:\n",
        "      win_options[action] = number_of_moves(preview, other_player, player)\n",
        "    elif v2 == -1:\n",
        "      lose_with_honor[action] = number_of_moves(preview, other_player, player)\n",
        "  if len(win_options) == 0:\n",
        "    move = min(lose_with_honor, key=lose_with_honor.get)\n",
        "    advantage_moves = lose_with_honor[move]\n",
        "  else:\n",
        "    move = min(win_options, key=win_options.get)\n",
        "    advantage_moves = win_options[move]\n",
        "  value = v2\n",
        "  return value, move, advantage_moves\n",
        "  \n",
        "def min_value_v12(board, depth, player, other_player):\n",
        "  my_moves = number_of_moves(board, player, other_player)\n",
        "  other_moves = number_of_moves(board, other_player, player)\n",
        "  if depth == 0:\n",
        "    if my_moves > other_moves:\n",
        "      return -1, None, my_moves\n",
        "    else:\n",
        "      return 1, None, my_moves\n",
        "  if my_moves == 0:\n",
        "    return 1, None, 0\n",
        "  if other_moves == 0:\n",
        "    return -1, None, my_moves\n",
        "  win_options = {}\n",
        "  lose_with_honor = {}\n",
        "  for action in available_moves(board, player, other_player):\n",
        "    preview = move_preview_v12(board, player, action)\n",
        "    v2, a2, m2 = max_value_v12(preview, depth-1, other_player, player)\n",
        "    if v2 == -1:\n",
        "      win_options[action] = number_of_moves(preview, other_player, player)\n",
        "    elif v2 == 1:\n",
        "      lose_with_honor[action] = number_of_moves(preview, other_player, player)\n",
        "  if len(win_options) == 0:\n",
        "    move = min(lose_with_honor, key=lose_with_honor.get)\n",
        "    advantage_moves = lose_with_honor[move]\n",
        "  else:\n",
        "    move = min(win_options, key=win_options.get)\n",
        "    advantage_moves = win_options[move]\n",
        "  value = v2\n",
        "  return value, move, advantage_moves"
      ],
      "metadata": {
        "id": "oA7lhMeHm_oM"
      },
      "execution_count": 24,
      "outputs": []
    },
    {
      "cell_type": "markdown",
      "source": [
        "# Solver V13 (DLC)"
      ],
      "metadata": {
        "id": "dGHt06firpNm"
      }
    },
    {
      "cell_type": "code",
      "source": [
        "def number_of_moves(input_board, player, other_player):\n",
        "  board = deepcopy(input_board)\n",
        "  moves = 0\n",
        "  for row in range(len(board)):\n",
        "    for col in range(len(board[row])):\n",
        "      if board[row][col] == player:\n",
        "        if row + 1 < len(board) and board[row + 1][col] == other_player:\n",
        "          moves += 1\n",
        "        if col + 1 < len(board[row]) and board[row][col + 1] == other_player:\n",
        "          moves += 1\n",
        "        if row - 1 >= 0 and board[row - 1][col] == other_player:\n",
        "          moves += 1\n",
        "        if col - 1 >= 0 and board[row][col - 1] == other_player:\n",
        "          moves += 1\n",
        "  return moves\n",
        "\n",
        "def available_moves(input_board, player, other_player):\n",
        "  board = deepcopy(input_board)\n",
        "  a_moves = []\n",
        "  for row in range(len(board)):\n",
        "    for col in range(len(board[row])):\n",
        "      if board[row][col] == player:\n",
        "        if row + 1 < len(board) and board[row + 1][col] == other_player:\n",
        "          a_moves.append((row, col, 'D'))\n",
        "        if col + 1 < len(board[row]) and board[row][col + 1] == other_player:\n",
        "          a_moves.append((row, col, 'R'))\n",
        "        if row - 1 >= 0 and board[row - 1][col] == other_player:\n",
        "          a_moves.append((row, col, 'U'))\n",
        "        if col - 1 >= 0 and board[row][col - 1] == other_player:\n",
        "          a_moves.append((row, col, 'L'))\n",
        "  return a_moves\n",
        "\n",
        "def move_preview_v13(input_board, player, move):\n",
        "  board = deepcopy(input_board)\n",
        "  board[move[0]][move[1]] = '.'\n",
        "  if move[2] == 'D':\n",
        "    board[move[0] + 1][move[1]] = player\n",
        "  if move[2] == 'R':\n",
        "    board[move[0]][move[1] + 1] = player\n",
        "  if move[2] == 'U':\n",
        "    board[move[0] - 1][move[1]] = player\n",
        "  if move[2] == 'L':\n",
        "    board[move[0]][move[1] - 1] = player\n",
        "  return board\n",
        "\n",
        "def solver_v13(game):\n",
        "  board = game.get_board()\n",
        "  player = game.player\n",
        "  other_player = game.other_player()\n",
        "  value, move, adv = max_value_v13(board, 3, player, other_player)\n",
        "  return move\n",
        "\n",
        "def max_value_v13(board, depth, player, other_player):\n",
        "  my_moves = number_of_moves(board, player, other_player)\n",
        "  other_moves = number_of_moves(board, other_player, player)\n",
        "  if depth == 0:\n",
        "    if my_moves > other_moves:\n",
        "      return 1, None, other_moves\n",
        "    else:\n",
        "      return -1, None, other_moves\n",
        "  if my_moves == 0:\n",
        "    return -1, None, other_moves\n",
        "  if other_moves == 0:\n",
        "    return 1, None, 0\n",
        "  win_options = {}\n",
        "  lose_with_honor = {}\n",
        "  for action in available_moves(board, player, other_player):\n",
        "    preview = move_preview_v13(board, player, action)\n",
        "    v2, a2, m2 = min_value_v13(preview, depth-1, other_player, player)\n",
        "    if v2 == 1:\n",
        "      win_options[action] = number_of_moves(preview, player, other_player)\n",
        "    elif v2 == -1:\n",
        "      lose_with_honor[action] = number_of_moves(preview, player, other_player)\n",
        "  if len(win_options) == 0:\n",
        "    move = max(lose_with_honor, key=lose_with_honor.get)\n",
        "    advantage_moves = lose_with_honor[move]\n",
        "  else:\n",
        "    move = max(win_options, key=win_options.get)\n",
        "    advantage_moves = win_options[move]\n",
        "  value = v2\n",
        "  return value, move, advantage_moves\n",
        "  \n",
        "def min_value_v13(board, depth, player, other_player):\n",
        "  my_moves = number_of_moves(board, player, other_player)\n",
        "  other_moves = number_of_moves(board, other_player, player)\n",
        "  if depth == 0:\n",
        "    if my_moves > other_moves:\n",
        "      return -1, None, my_moves\n",
        "    else:\n",
        "      return 1, None, my_moves\n",
        "  if my_moves == 0:\n",
        "    return 1, None, 0\n",
        "  if other_moves == 0:\n",
        "    return -1, None, my_moves\n",
        "  win_options = {}\n",
        "  lose_with_honor = {}\n",
        "  for action in available_moves(board, player, other_player):\n",
        "    preview = move_preview_v13(board, player, action)\n",
        "    v2, a2, m2 = max_value_v13(preview, depth-1, other_player, player)\n",
        "    if v2 == -1:\n",
        "      win_options[action] = number_of_moves(preview, player, other_player)\n",
        "    elif v2 == 1:\n",
        "      lose_with_honor[action] = number_of_moves(preview, player, other_player)\n",
        "  if len(win_options) == 0:\n",
        "    move = max(lose_with_honor, key=lose_with_honor.get)\n",
        "    advantage_moves = lose_with_honor[move]\n",
        "  else:\n",
        "    move = max(win_options, key=win_options.get)\n",
        "    advantage_moves = win_options[move]\n",
        "  value = v2\n",
        "  return value, move, advantage_moves"
      ],
      "metadata": {
        "id": "HZ5o9dixrsBH"
      },
      "execution_count": 25,
      "outputs": []
    },
    {
      "cell_type": "markdown",
      "source": [
        "# Solver V14"
      ],
      "metadata": {
        "id": "QNqicH7YMxnA"
      }
    },
    {
      "cell_type": "code",
      "source": [
        "def number_of_moves(input_board, player, other_player):\n",
        "  board = deepcopy(input_board)\n",
        "  moves = 0\n",
        "  for row in range(len(board)):\n",
        "    for col in range(len(board[row])):\n",
        "      if board[row][col] == player:\n",
        "        if row + 1 < len(board) and board[row + 1][col] == other_player:\n",
        "          moves += 1\n",
        "        if col + 1 < len(board[row]) and board[row][col + 1] == other_player:\n",
        "          moves += 1\n",
        "        if row - 1 >= 0 and board[row - 1][col] == other_player:\n",
        "          moves += 1\n",
        "        if col - 1 >= 0 and board[row][col - 1] == other_player:\n",
        "          moves += 1\n",
        "  return moves\n",
        "\n",
        "def available_moves(input_board, player, other_player):\n",
        "  board = deepcopy(input_board)\n",
        "  a_moves = []\n",
        "  for row in range(len(board)):\n",
        "    for col in range(len(board[row])):\n",
        "      if board[row][col] == player:\n",
        "        if row + 1 < len(board) and board[row + 1][col] == other_player:\n",
        "          a_moves.append((row, col, 'D'))\n",
        "        if col + 1 < len(board[row]) and board[row][col + 1] == other_player:\n",
        "          a_moves.append((row, col, 'R'))\n",
        "        if row - 1 >= 0 and board[row - 1][col] == other_player:\n",
        "          a_moves.append((row, col, 'U'))\n",
        "        if col - 1 >= 0 and board[row][col - 1] == other_player:\n",
        "          a_moves.append((row, col, 'L'))\n",
        "  return a_moves\n",
        "\n",
        "def move_preview_v14(input_board, player, move):\n",
        "  board = deepcopy(input_board)\n",
        "  board[move[0]][move[1]] = '.'\n",
        "  if move[2] == 'D':\n",
        "    board[move[0] + 1][move[1]] = player\n",
        "  if move[2] == 'R':\n",
        "    board[move[0]][move[1] + 1] = player\n",
        "  if move[2] == 'U':\n",
        "    board[move[0] - 1][move[1]] = player\n",
        "  if move[2] == 'L':\n",
        "    board[move[0]][move[1] - 1] = player\n",
        "  return board\n",
        "\n",
        "def solver_v14(game):\n",
        "  board = game.get_board()\n",
        "  player = game.player\n",
        "  other_player = game.other_player()\n",
        "  value, move, adv = max_value_v14(board, 3, player, other_player)\n",
        "  return move\n",
        "\n",
        "def max_value_v14(board, depth, player, other_player):\n",
        "  my_moves = number_of_moves(board, player, other_player)\n",
        "  other_moves = number_of_moves(board, other_player, player)\n",
        "  if depth == 0:\n",
        "    if my_moves > other_moves:\n",
        "      return 1, None, other_moves\n",
        "    else:\n",
        "      return -1, None, other_moves\n",
        "  if my_moves == 0:\n",
        "    return -1, None, other_moves\n",
        "  if other_moves == 0:\n",
        "    return 1, None, 0\n",
        "  win_options = {}\n",
        "  lose_with_honor = {}\n",
        "  if my_moves > other_moves:\n",
        "    for action in available_moves(board, player, other_player):\n",
        "      preview = move_preview_v14(board, player, action)\n",
        "      v2, a2, m2 = min_value_v14(preview, depth-1, other_player, player)\n",
        "      if v2 == 1:\n",
        "        win_options[action] = number_of_moves(preview, other_player, player)\n",
        "      elif v2 == -1:\n",
        "        lose_with_honor[action] = number_of_moves(preview, other_player, player)\n",
        "    if len(win_options) == 0:\n",
        "      move = min(lose_with_honor, key=lose_with_honor.get)\n",
        "      advantage_moves = lose_with_honor[move]\n",
        "    else:\n",
        "      move = min(win_options, key=win_options.get)\n",
        "      advantage_moves = win_options[move]\n",
        "    value = v2\n",
        "  else:\n",
        "    for action in available_moves(board, player, other_player):\n",
        "      preview = move_preview_v14(board, player, action)\n",
        "      v2, a2, m2 = min_value_v14(preview, depth-1, other_player, player)\n",
        "      if v2 == 1:\n",
        "        win_options[action] = number_of_moves(preview, player, other_player)\n",
        "      elif v2 == -1:\n",
        "        lose_with_honor[action] = number_of_moves(preview, player, other_player)\n",
        "    if len(win_options) == 0:\n",
        "      move = max(lose_with_honor, key=lose_with_honor.get)\n",
        "      advantage_moves = lose_with_honor[move]\n",
        "    else:\n",
        "      move = max(win_options, key=win_options.get)\n",
        "      advantage_moves = win_options[move]\n",
        "    value = v2\n",
        "  return value, move, advantage_moves\n",
        "  \n",
        "def min_value_v14(board, depth, player, other_player):\n",
        "  my_moves = number_of_moves(board, player, other_player)\n",
        "  other_moves = number_of_moves(board, other_player, player)\n",
        "  if depth == 0:\n",
        "    if my_moves > other_moves:\n",
        "      return -1, None, my_moves\n",
        "    else:\n",
        "      return 1, None, my_moves\n",
        "  if my_moves == 0:\n",
        "    return 1, None, 0\n",
        "  if other_moves == 0:\n",
        "    return -1, None, my_moves\n",
        "  win_options = {}\n",
        "  lose_with_honor = {}\n",
        "  if my_moves > other_moves:\n",
        "    for action in available_moves(board, player, other_player):\n",
        "      preview = move_preview_v14(board, player, action)\n",
        "      v2, a2, m2 = max_value_v14(preview, depth-1, other_player, player)\n",
        "      if v2 == -1:\n",
        "        win_options[action] = number_of_moves(preview, other_player, player)\n",
        "      elif v2 == 1:\n",
        "        lose_with_honor[action] = number_of_moves(preview, other_player, player)\n",
        "    if len(win_options) == 0:\n",
        "      move = min(lose_with_honor, key=lose_with_honor.get)\n",
        "      advantage_moves = lose_with_honor[move]\n",
        "    else:\n",
        "      move = min(win_options, key=win_options.get)\n",
        "      advantage_moves = win_options[move]\n",
        "    value = v2\n",
        "  else: \n",
        "    for action in available_moves(board, player, other_player):\n",
        "      preview = move_preview_v14(board, player, action)\n",
        "      v2, a2, m2 = max_value_v14(preview, depth-1, other_player, player)\n",
        "      if v2 == -1:\n",
        "        win_options[action] = number_of_moves(preview, player, other_player)\n",
        "      elif v2 == 1:\n",
        "        lose_with_honor[action] = number_of_moves(preview, player, other_player)\n",
        "    if len(win_options) == 0:\n",
        "      move = max(lose_with_honor, key=lose_with_honor.get)\n",
        "      advantage_moves = lose_with_honor[move]\n",
        "    else:\n",
        "      move = max(win_options, key=win_options.get)\n",
        "      advantage_moves = win_options[move]\n",
        "    value = v2\n",
        "  return value, move, advantage_moves"
      ],
      "metadata": {
        "id": "UPc5A0LrMzzM"
      },
      "execution_count": 26,
      "outputs": []
    },
    {
      "cell_type": "markdown",
      "source": [
        "# Solver V15"
      ],
      "metadata": {
        "id": "v2TCkOMnKl97"
      }
    },
    {
      "cell_type": "code",
      "source": [
        "def number_of_moves(input_board, player, other_player):\n",
        "  board = deepcopy(input_board)\n",
        "  moves = 0\n",
        "  for row in range(len(board)):\n",
        "    for col in range(len(board[row])):\n",
        "      if board[row][col] == player:\n",
        "        if row + 1 < len(board) and board[row + 1][col] == other_player:\n",
        "          moves += 1\n",
        "        if col + 1 < len(board[row]) and board[row][col + 1] == other_player:\n",
        "          moves += 1\n",
        "        if row - 1 >= 0 and board[row - 1][col] == other_player:\n",
        "          moves += 1\n",
        "        if col - 1 >= 0 and board[row][col - 1] == other_player:\n",
        "          moves += 1\n",
        "  return moves\n",
        "\n",
        "def available_moves(input_board, player, other_player):\n",
        "  board = deepcopy(input_board)\n",
        "  a_moves = []\n",
        "  for row in range(len(board)):\n",
        "    for col in range(len(board[row])):\n",
        "      if board[row][col] == player:\n",
        "        if row + 1 < len(board) and board[row + 1][col] == other_player:\n",
        "          a_moves.append((row, col, 'D'))\n",
        "        if col + 1 < len(board[row]) and board[row][col + 1] == other_player:\n",
        "          a_moves.append((row, col, 'R'))\n",
        "        if row - 1 >= 0 and board[row - 1][col] == other_player:\n",
        "          a_moves.append((row, col, 'U'))\n",
        "        if col - 1 >= 0 and board[row][col - 1] == other_player:\n",
        "          a_moves.append((row, col, 'L'))\n",
        "  return a_moves\n",
        "\n",
        "def move_preview_v15(input_board, player, move):\n",
        "  board = deepcopy(input_board)\n",
        "  board[move[0]][move[1]] = '.'\n",
        "  if move[2] == 'D':\n",
        "    board[move[0] + 1][move[1]] = player\n",
        "  if move[2] == 'R':\n",
        "    board[move[0]][move[1] + 1] = player\n",
        "  if move[2] == 'U':\n",
        "    board[move[0] - 1][move[1]] = player\n",
        "  if move[2] == 'L':\n",
        "    board[move[0]][move[1] - 1] = player\n",
        "  return board\n",
        "\n",
        "def solver_v15(game):\n",
        "  board = game.get_board()\n",
        "  player = game.player\n",
        "  other_player = game.other_player()\n",
        "  value, move, adv = max_value_v15(board, 3, player, other_player)\n",
        "  return move\n",
        "\n",
        "def max_value_v15(board, depth, player, other_player):\n",
        "  my_moves = number_of_moves(board, player, other_player)\n",
        "  other_moves = number_of_moves(board, other_player, player)\n",
        "  if depth == 0:\n",
        "    if my_moves > other_moves:\n",
        "      return 1, None, other_moves\n",
        "    else:\n",
        "      return -1, None, other_moves\n",
        "  if my_moves == 0:\n",
        "    return -1, None, other_moves\n",
        "  if other_moves == 0:\n",
        "    return 1, None, 0\n",
        "  win_options = {}\n",
        "  lose_with_honor = {}\n",
        "  if my_moves > other_moves:\n",
        "    for action in available_moves(board, player, other_player):\n",
        "      preview = move_preview_v15(board, player, action)\n",
        "      v2, a2, m2 = min_value_v15(preview, depth-1, other_player, player)\n",
        "      if v2 == 1:\n",
        "        win_options[action] = number_of_moves(preview, player, other_player)\n",
        "      elif v2 == -1:\n",
        "        lose_with_honor[action] = number_of_moves(preview, player, other_player)\n",
        "    if len(win_options) == 0:\n",
        "      move = max(lose_with_honor, key=lose_with_honor.get)\n",
        "      advantage_moves = lose_with_honor[move]\n",
        "    else:\n",
        "      move = max(win_options, key=win_options.get)\n",
        "      advantage_moves = win_options[move]\n",
        "    value = v2\n",
        "  else:\n",
        "    for action in available_moves(board, player, other_player):\n",
        "      preview = move_preview_v15(board, player, action)\n",
        "      v2, a2, m2 = min_value_v15(preview, depth-1, other_player, player)\n",
        "      if v2 == 1:\n",
        "        win_options[action] = number_of_moves(preview, other_player, player)\n",
        "      elif v2 == -1:\n",
        "        lose_with_honor[action] = number_of_moves(preview, other_player, player)\n",
        "    if len(win_options) == 0:\n",
        "      move = min(lose_with_honor, key=lose_with_honor.get)\n",
        "      advantage_moves = lose_with_honor[move]\n",
        "    else:\n",
        "      move = min(win_options, key=win_options.get)\n",
        "      advantage_moves = win_options[move]\n",
        "    value = v2\n",
        "  return value, move, advantage_moves\n",
        "  \n",
        "def min_value_v15(board, depth, player, other_player):\n",
        "  my_moves = number_of_moves(board, player, other_player)\n",
        "  other_moves = number_of_moves(board, other_player, player)\n",
        "  if depth == 0:\n",
        "    if my_moves > other_moves:\n",
        "      return -1, None, my_moves\n",
        "    else:\n",
        "      return 1, None, my_moves\n",
        "  if my_moves == 0:\n",
        "    return 1, None, 0\n",
        "  if other_moves == 0:\n",
        "    return -1, None, my_moves\n",
        "  win_options = {}\n",
        "  lose_with_honor = {}\n",
        "  if my_moves > other_moves: \n",
        "    for action in available_moves(board, player, other_player):\n",
        "      preview = move_preview_v15(board, player, action)\n",
        "      v2, a2, m2 = max_value_v15(preview, depth-1, other_player, player)\n",
        "      if v2 == -1:\n",
        "        win_options[action] = number_of_moves(preview, player, other_player)\n",
        "      elif v2 == 1:\n",
        "        lose_with_honor[action] = number_of_moves(preview, player, other_player)\n",
        "    if len(win_options) == 0:\n",
        "      move = max(lose_with_honor, key=lose_with_honor.get)\n",
        "      advantage_moves = lose_with_honor[move]\n",
        "    else:\n",
        "      move = max(win_options, key=win_options.get)\n",
        "      advantage_moves = win_options[move]\n",
        "    value = v2\n",
        "  else:\n",
        "    for action in available_moves(board, player, other_player):\n",
        "      preview = move_preview_v15(board, player, action)\n",
        "      v2, a2, m2 = max_value_v15(preview, depth-1, other_player, player)\n",
        "      if v2 == -1:\n",
        "        win_options[action] = number_of_moves(preview, other_player, player)\n",
        "      elif v2 == 1:\n",
        "        lose_with_honor[action] = number_of_moves(preview, other_player, player)\n",
        "    if len(win_options) == 0:\n",
        "      move = min(lose_with_honor, key=lose_with_honor.get)\n",
        "      advantage_moves = lose_with_honor[move]\n",
        "    else:\n",
        "      move = min(win_options, key=win_options.get)\n",
        "      advantage_moves = win_options[move]\n",
        "    value = v2\n",
        "  return value, move, advantage_moves"
      ],
      "metadata": {
        "id": "TlgZuIhEKofd"
      },
      "execution_count": 28,
      "outputs": []
    },
    {
      "cell_type": "markdown",
      "metadata": {
        "id": "78YE6QFAd2Oc"
      },
      "source": [
        "# Tester"
      ]
    },
    {
      "cell_type": "code",
      "execution_count": 57,
      "metadata": {
        "colab": {
          "base_uri": "https://localhost:8080/"
        },
        "id": "lFl56gvUVvks",
        "outputId": "e6f48834-24f4-403b-8055-b62a3269e801"
      },
      "outputs": [
        {
          "output_type": "stream",
          "name": "stdout",
          "text": [
            "Creating new game...\n",
            "Joining game with id: 8463\n",
            "Playing as O\n",
            "Waiting for the other player to join...\n",
            "['X', 'O', 'X', 'O', 'X']\n",
            "['O', 'X', 'O', 'X', 'O']\n",
            "['X', 'O', 'X', 'O', '.']\n",
            "['O', 'X', 'O', 'X', 'X']\n",
            "['X', 'O', 'X', 'O', 'X']\n",
            "['O', 'X', 'O', 'X', 'O']\n",
            "Making next move...\n",
            "(1, 2, 'D')\n",
            "b'Valid move'\n",
            "['X', 'O', 'X', 'O', 'X']\n",
            "['O', 'X', '.', 'X', 'O']\n",
            "['X', 'O', 'O', 'O', '.']\n",
            "['O', 'X', 'O', 'X', 'X']\n",
            "['X', 'O', '.', 'X', 'X']\n",
            "['O', 'X', 'O', 'X', 'O']\n",
            "Making next move...\n",
            "(2, 1, 'D')\n",
            "b'Valid move'\n",
            "['X', 'O', 'X', 'O', 'X']\n",
            "['O', 'X', '.', 'X', 'O']\n",
            "['X', '.', 'O', 'O', '.']\n",
            "['O', 'O', 'O', 'X', 'X']\n",
            "['X', 'O', '.', 'X', '.']\n",
            "['O', 'X', 'O', 'X', 'X']\n",
            "Making next move...\n",
            "(0, 3, 'D')\n",
            "b'Valid move'\n",
            "['X', 'O', 'X', '.', 'X']\n",
            "['O', 'X', '.', 'O', 'O']\n",
            "['X', '.', 'O', 'O', '.']\n",
            "['O', 'O', 'O', 'X', 'X']\n",
            "['.', 'O', '.', 'X', '.']\n",
            "['X', 'X', 'O', 'X', 'X']\n",
            "Making next move...\n",
            "(0, 1, 'D')\n",
            "b'Valid move'\n",
            "['X', '.', 'X', '.', 'X']\n",
            "['X', 'O', '.', 'O', 'O']\n",
            "['.', '.', 'O', 'O', '.']\n",
            "['O', 'O', 'O', 'X', 'X']\n",
            "['.', 'O', '.', 'X', '.']\n",
            "['X', 'X', 'O', 'X', 'X']\n",
            "Making next move...\n",
            "(5, 2, 'L')\n",
            "b'Valid move'\n",
            "['X', '.', 'X', '.', 'X']\n",
            "['X', 'O', '.', 'O', 'O']\n",
            "['.', '.', 'O', 'O', '.']\n",
            "['O', 'O', 'X', '.', 'X']\n",
            "['.', 'O', '.', 'X', '.']\n",
            "['X', 'O', '.', 'X', 'X']\n",
            "Making next move...\n",
            "(2, 2, 'D')\n",
            "b'Valid move'\n",
            "['X', '.', 'X', '.', 'X']\n",
            "['.', 'X', '.', 'O', 'O']\n",
            "['.', '.', '.', 'O', '.']\n",
            "['O', 'O', 'O', '.', 'X']\n",
            "['.', 'O', '.', 'X', '.']\n",
            "['X', 'O', '.', 'X', 'X']\n",
            "Making next move...\n",
            "(1, 4, 'U')\n",
            "b'Valid move'\n",
            "['X', '.', 'X', '.', 'O']\n",
            "['.', 'X', '.', 'O', '.']\n",
            "['.', '.', '.', 'O', '.']\n",
            "['O', 'O', 'O', '.', 'X']\n",
            "['.', 'O', '.', 'X', '.']\n",
            "['.', 'X', '.', 'X', 'X']\n",
            "Making next move...\n",
            "(4, 1, 'D')\n",
            "b'Valid move'\n",
            "['X', '.', 'X', '.', 'O']\n",
            "['.', 'X', '.', 'O', '.']\n",
            "['.', '.', '.', 'O', '.']\n",
            "['O', 'O', 'O', '.', 'X']\n",
            "['.', '.', '.', 'X', '.']\n",
            "['.', 'O', '.', 'X', 'X']\n",
            "Server says your agent WON\n"
          ]
        }
      ],
      "source": [
        "game_loop(solver_v12, Clobber, 'clobber', multi_player=False, id=None)"
      ]
    },
    {
      "cell_type": "code",
      "execution_count": 56,
      "metadata": {
        "colab": {
          "base_uri": "https://localhost:8080/"
        },
        "id": "oQA24i15JLH3",
        "outputId": "4d80515f-8a1a-4cf8-ef3c-e983a88a0794"
      },
      "outputs": [
        {
          "output_type": "stream",
          "name": "stdout",
          "text": [
            "1\n",
            "2\n",
            "3\n",
            "4\n",
            "5\n",
            "6\n",
            "7\n",
            "8\n",
            "9\n",
            "10\n",
            "The algorithm won  10  times!\n"
          ]
        }
      ],
      "source": [
        "i = 0\n",
        "won = 0\n",
        "while i < 10:\n",
        "  won += game_loop_test(solver_v12, Clobber, 'clobber', multi_player=False, id=None)\n",
        "  i += 1\n",
        "  print(i)\n",
        "print(\"The algorithm won \", won, \" times!\")"
      ]
    },
    {
      "cell_type": "markdown",
      "metadata": {
        "id": "NoQXgKyjeRxm"
      },
      "source": [
        "# Test Results (Disregarded since change in the server)"
      ]
    },
    {
      "cell_type": "markdown",
      "metadata": {
        "id": "fqK7eknveYhh"
      },
      "source": [
        "Solver V1: 58%, 49%, 51% =================> 52.66% || Around 17 minutes"
      ]
    },
    {
      "cell_type": "markdown",
      "metadata": {
        "id": "kz1z4llxefFy"
      },
      "source": [
        "Solver V2: 53%, 54%, 53% =================> 53.33% (Significantly better performance) || Around 12 minutes"
      ]
    },
    {
      "cell_type": "markdown",
      "metadata": {
        "id": "YuHqXBJjcFkd"
      },
      "source": [
        "Solver V3: 59%, 54%, 58% =================> 57% (Even better performance) || Around 2 minutes!!!"
      ]
    },
    {
      "cell_type": "markdown",
      "metadata": {
        "id": "avLIGQrQgLw-"
      },
      "source": [
        "Solver V4: 56%, 57%, 61% =================> 58% Around same as V3"
      ]
    },
    {
      "cell_type": "markdown",
      "source": [
        "Solver V5: 65%, 49%, 60% =================> 58% || 17 minutes"
      ],
      "metadata": {
        "id": "2TT7gD4aZS-t"
      }
    },
    {
      "cell_type": "markdown",
      "source": [
        "Solver V6: 55%, 54%, 45% ==================> 51.33% || 30 minutes"
      ],
      "metadata": {
        "id": "RztAYQ8bZXpY"
      }
    },
    {
      "cell_type": "markdown",
      "source": [
        "Solver V7: 61%, 58%, 56% ===================> 58.33% || 17 minutes"
      ],
      "metadata": {
        "id": "uyXsbs5wZaW0"
      }
    },
    {
      "cell_type": "markdown",
      "source": [
        "Solver V8: 58%, 47%, 54% ===================> 53% || 30 minutes"
      ],
      "metadata": {
        "id": "SD1JusjLalbp"
      }
    },
    {
      "cell_type": "markdown",
      "source": [
        "Solver V9: "
      ],
      "metadata": {
        "id": "_2iqSPVHZfhS"
      }
    },
    {
      "cell_type": "markdown",
      "source": [
        "Random V Rafal: 2/5 (Random Wins)"
      ],
      "metadata": {
        "id": "jw3VkfU3gA_B"
      }
    },
    {
      "cell_type": "markdown",
      "source": [
        "# V3 Against the World (Disregarded since change in the server)\n"
      ],
      "metadata": {
        "id": "0ITcNaVEU4UY"
      }
    },
    {
      "cell_type": "markdown",
      "source": [
        "V1: 4/5 (Victory)"
      ],
      "metadata": {
        "id": "50zas0CRU9pB"
      }
    },
    {
      "cell_type": "markdown",
      "source": [
        "V2: 1/5 (Defeat)"
      ],
      "metadata": {
        "id": "e_U7nfvAU_3v"
      }
    },
    {
      "cell_type": "markdown",
      "source": [
        "Doppelganger: 4/5 (Victory)"
      ],
      "metadata": {
        "id": "O8h112vtVA-w"
      }
    },
    {
      "cell_type": "markdown",
      "source": [
        "V4:"
      ],
      "metadata": {
        "id": "KBCFdaFEVH99"
      }
    },
    {
      "cell_type": "markdown",
      "source": [
        "V5:"
      ],
      "metadata": {
        "id": "LJ5Dzf7CVJ3d"
      }
    },
    {
      "cell_type": "markdown",
      "source": [
        "V6: 2/5 (Defeat)"
      ],
      "metadata": {
        "id": "K5sKsHlgVKvZ"
      }
    },
    {
      "cell_type": "markdown",
      "source": [
        "V7:"
      ],
      "metadata": {
        "id": "ie3j9aiVVMQj"
      }
    },
    {
      "cell_type": "markdown",
      "source": [
        "V8: 3/5 (Victory)"
      ],
      "metadata": {
        "id": "25vwABXSVNNF"
      }
    },
    {
      "cell_type": "markdown",
      "source": [
        "Random Solver: 3/5 (Victory)"
      ],
      "metadata": {
        "id": "pD8bhkh_d_Y_"
      }
    },
    {
      "cell_type": "markdown",
      "metadata": {
        "id": "M1Lri15NeVy7"
      },
      "source": [
        "# Other Docs (Reference)"
      ]
    },
    {
      "cell_type": "markdown",
      "metadata": {
        "id": "DJr4D-NmP0dA"
      },
      "source": [
        "https://perso.uclouvain.be/julien.hendrickx/availablepublications/07BdKHJ_bnl.pdf"
      ]
    },
    {
      "cell_type": "markdown",
      "metadata": {
        "id": "4GsScMbOSo37"
      },
      "source": [
        "https://www.researchgate.net/publication/221932254_New_Trends_in_Clobber_Programming"
      ]
    }
  ],
  "metadata": {
    "colab": {
      "provenance": [],
      "collapsed_sections": [
        "22A1Mu0od8aE",
        "OQZzICt_dOMu",
        "_uygOxA9dkrc",
        "OgAZmaU-fv4V",
        "IbB45ud3gcqh",
        "NdZozFbeB-GC",
        "0vKHdIwpYvy_",
        "bNEJp3pzZFUk",
        "NzHq8yQbZICh",
        "K3JTEJRH_UFT",
        "y2-NWfq50aJH"
      ]
    },
    "kernelspec": {
      "display_name": "Python 3",
      "name": "python3"
    },
    "language_info": {
      "name": "python"
    }
  },
  "nbformat": 4,
  "nbformat_minor": 0
}