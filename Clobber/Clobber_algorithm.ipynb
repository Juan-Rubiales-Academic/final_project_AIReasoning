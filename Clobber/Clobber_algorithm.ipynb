{
  "cells": [
    {
      "cell_type": "markdown",
      "metadata": {
        "id": "SMOeYqKQEWAh"
      },
      "source": [
        "Please remember to update the token. For multiplayer to work, each player needs a different token. Please feel free to use multiple tokens in the same group."
      ]
    },
    {
      "cell_type": "code",
      "execution_count": null,
      "metadata": {
        "id": "jMHiHG2lEUJo"
      },
      "outputs": [],
      "source": [
        "#Update your token\n",
        "STUDENT_TOKEN = 'GROUP 1'"
      ]
    },
    {
      "cell_type": "markdown",
      "metadata": {
        "id": "5k9_BgjreDwW"
      },
      "source": [
        "# Base Code"
      ]
    },
    {
      "cell_type": "markdown",
      "metadata": {
        "id": "Kv-G27nSEQ2f"
      },
      "source": [
        "There should be no need to change the code below."
      ]
    },
    {
      "cell_type": "code",
      "execution_count": null,
      "metadata": {
        "id": "z9Bf9x8JNee2"
      },
      "outputs": [],
      "source": [
        "## ignore this code, just used for submission\n",
        "import requests\n",
        "import pprint\n",
        "import json\n",
        "import random\n",
        "import time\n",
        "from copy import copy, deepcopy\n",
        "\n",
        "class Game:\n",
        "  def __init__(self, state, status, player):\n",
        "    self.state = state\n",
        "    self.status = status\n",
        "    self.player = player\n",
        "\n",
        "  def is_waiting(self):\n",
        "    return self.status == 'waiting'\n",
        "\n",
        "  def is_end(self):\n",
        "    return self.status == 'complete'\n",
        "  \n",
        "  def get_board(self):\n",
        "    return json.loads(self.state)\n",
        "\n",
        "  def get_winner(self):\n",
        "    return None\n",
        "\n",
        "  def actions(self):\n",
        "    return []\n",
        "\n",
        "  def print(self):\n",
        "    print(self.state)\n",
        "\n",
        "def new_game(game_type, multi_player = False):\n",
        "  for _ in range(10):\n",
        "    r = requests.get('https://emarchiori.eu.pythonanywhere.com/new-game?TOKEN=%s&game-type=%s&multi-player=%s' % (STUDENT_TOKEN, game_type, 'True' if multi_player else 'False'))\n",
        "    if r.status_code == 200:\n",
        "      return r.json()['game-id']\n",
        "    print(r.content)\n",
        "\n",
        "def join_game(game_type, game_id):\n",
        "  for _ in range(10):\n",
        "    r = requests.get('https://emarchiori.eu.pythonanywhere.com/join-game?TOKEN=%s&game-type=%s&game-id=%s' % (STUDENT_TOKEN, game_type, game_id))\n",
        "    if r.status_code == 200:\n",
        "      return r.json()['player']\n",
        "    print(r.content)\n",
        "\n",
        "def game_state(game_type, game_id, GameClass):\n",
        "  for _ in range(10):\n",
        "    r = requests.get('https://emarchiori.eu.pythonanywhere.com/game-state?TOKEN=%s&game-type=%s&game-id=%s' % (STUDENT_TOKEN, game_type, game_id))\n",
        "    if r.status_code == 200:\n",
        "      return GameClass(r.json()['state'], r.json()['status'], r.json()['player'])\n",
        "    print(r.content)\n",
        "\n",
        "def update_game(game_type, game_id, player, move):\n",
        "  for _ in range(10):\n",
        "    r = requests.get('https://emarchiori.eu.pythonanywhere.com/update-game?TOKEN=%s&game-type=%s&game-id=%s&player=%s&move=%s' % (STUDENT_TOKEN, game_type, game_id, player, move))\n",
        "    if r.status_code == 200:\n",
        "      return r.content\n",
        "    print(r.content)\n",
        "\n",
        "def game_loop(solver, GameClass, game_type, multi_player = False, id = None):\n",
        "  while id == None:\n",
        "    print('Creating new game...')\n",
        "    id = new_game(game_type, multi_player)\n",
        "\n",
        "  print('Joining game with id: %s' % id)\n",
        "  player = join_game(game_type, id)\n",
        "\n",
        "  print('Playing as %s' % player)\n",
        "\n",
        "  game = game_state(game_type, id, GameClass)\n",
        "  print('Waiting for the other player to join...')\n",
        "  while game.is_waiting():\n",
        "    time.sleep(10)\n",
        "    game = game_state(game_type, id, GameClass)\n",
        "\n",
        "  while True:\n",
        "    game = game_state(game_type, id, GameClass)\n",
        "    game.print_game()\n",
        "    if game.is_end():\n",
        "      if game.player == '-':\n",
        "        print('Server says there is a draw')\n",
        "      else:\n",
        "        print('Server says your agent ' + ('WON' if game.player == player else 'LOST'))\n",
        "      return\n",
        "    if game.player == player:\n",
        "      print('Making next move...')\n",
        "      move = solver(game)\n",
        "      print(move)\n",
        "      update_result = update_game(game_type, id, player, json.dumps(move))\n",
        "      print(update_result)\n",
        "    else:\n",
        "      time.sleep(2)"
      ]
    },
    {
      "cell_type": "code",
      "execution_count": null,
      "metadata": {
        "id": "uP9QJSL_arDf"
      },
      "outputs": [],
      "source": [
        "def game_loop_test(solver, GameClass, game_type, multi_player = False, id = None):\n",
        "  while id == None:\n",
        "    id = new_game(game_type, multi_player)\n",
        "\n",
        "  player = join_game(game_type, id)\n",
        "\n",
        "\n",
        "  game = game_state(game_type, id, GameClass)\n",
        "  while game.is_waiting():\n",
        "    time.sleep(10)\n",
        "    game = game_state(game_type, id, GameClass)\n",
        "\n",
        "  while True:\n",
        "    game = game_state(game_type, id, GameClass)\n",
        "    if game.is_end():\n",
        "      if game.player == '-':\n",
        "        return 0\n",
        "      else:\n",
        "        if game.player == player:\n",
        "          return 1\n",
        "        else: \n",
        "          return 0\n",
        "      return\n",
        "    if game.player == player:\n",
        "      move = solver(game)\n",
        "      update_result = update_game(game_type, id, player, json.dumps(move))\n",
        "    else:\n",
        "      time.sleep(2)"
      ]
    },
    {
      "cell_type": "markdown",
      "metadata": {
        "id": "bkmvv9xnEfix"
      },
      "source": [
        "There is almost certainly no need to change this code, but if you must you can."
      ]
    },
    {
      "cell_type": "code",
      "execution_count": null,
      "metadata": {
        "id": "r_zr2XPCyKyl"
      },
      "outputs": [],
      "source": [
        "from functools import reduce\n",
        "from copy import copy, deepcopy\n",
        "import json\n",
        "import random\n",
        "\n",
        "class Clobber(Game):\n",
        "  def __init__(self, state, status, player):\n",
        "    Game.__init__(self, state, status, player)\n",
        "\n",
        "  def actions(self):\n",
        "    return [] # this should return the possible actions\n",
        "\n",
        "  def get_winner(self):\n",
        "    return '.' # this should return the actual winner\n",
        "\n",
        "  def other_player(self):\n",
        "    if self.player == 'O': return 'X'\n",
        "    if self.player == 'X': return 'O'\n",
        "\n",
        "  def print_game(self):\n",
        "    for row in self.get_board():\n",
        "      print(row)\n"
      ]
    },
    {
      "cell_type": "markdown",
      "metadata": {
        "id": "22A1Mu0od8aE"
      },
      "source": [
        "# Random Solver"
      ]
    },
    {
      "cell_type": "markdown",
      "metadata": {
        "id": "BlaDsHFtEkme"
      },
      "source": [
        "Instead of changing this code for a random solver, write new code that also returns the next move. For example, create a new \"amazing_solver\".\n",
        "\n",
        "Solvers need to return a list or tuple of 3 elements: row, col and dir. Dir can be 'R', 'L', 'U', 'D'"
      ]
    },
    {
      "cell_type": "code",
      "execution_count": null,
      "metadata": {
        "id": "ZeCaSFQtGw3f"
      },
      "outputs": [],
      "source": [
        "def random_solver(game):\n",
        "  board = game.get_board()\n",
        "  player = game.player\n",
        "  other_player = game.other_player()\n",
        "  opts = []\n",
        "  for row in range(len(board)):\n",
        "    for col in range(len(board[row])):\n",
        "      if board[row][col] == player:\n",
        "        if row + 1 < len(board) and board[row + 1][col] == other_player:\n",
        "          opts.append((row, col, 'D'))\n",
        "        if col + 1 < len(board[row]) and board[row][col + 1] == other_player:\n",
        "          opts.append((row, col, 'R'))\n",
        "        if row - 1 >= 0 and board[row - 1][col] == other_player:\n",
        "          opts.append((row, col, 'U'))\n",
        "        if col - 1 >= 0 and board[row][col - 1] == other_player:\n",
        "          opts.append((row, col, 'L'))\n",
        "  return opts[random.randint(0, len(opts) - 1)]"
      ]
    },
    {
      "cell_type": "markdown",
      "metadata": {
        "id": "F30IkgA6Evc0"
      },
      "source": [
        "This code is the one that starts the game. In different games you will need to change the class (Clobber is the one for clobber game).\n",
        "\n",
        "The 'multi_player' variable can be True or False. If you set multi_palyer to True, you will need to provide a game_id against which to play or if using None a new game will be created (which another player can join)."
      ]
    },
    {
      "cell_type": "code",
      "execution_count": null,
      "metadata": {
        "colab": {
          "base_uri": "https://localhost:8080/"
        },
        "id": "HbEE9dFYG_Mw",
        "outputId": "ed9a3755-002e-4c0d-d60e-3a9ada255f05"
      },
      "outputs": [],
      "source": [
        "game_loop(random_solver, Clobber, 'clobber', multi_player=False, id=None)"
      ]
    },
    {
      "cell_type": "markdown",
      "metadata": {
        "id": "1AA8Tu7um8lF"
      },
      "source": [
        "# Solver V12 (The Chosen One)"
      ]
    },
    {
      "cell_type": "code",
      "execution_count": null,
      "metadata": {
        "id": "oA7lhMeHm_oM"
      },
      "outputs": [],
      "source": [
        "def number_of_moves(input_board, player, other_player):\n",
        "  board = deepcopy(input_board)\n",
        "  moves = 0\n",
        "  for row in range(len(board)):\n",
        "    for col in range(len(board[row])):\n",
        "      if board[row][col] == player:\n",
        "        if row + 1 < len(board) and board[row + 1][col] == other_player:\n",
        "          moves += 1\n",
        "        if col + 1 < len(board[row]) and board[row][col + 1] == other_player:\n",
        "          moves += 1\n",
        "        if row - 1 >= 0 and board[row - 1][col] == other_player:\n",
        "          moves += 1\n",
        "        if col - 1 >= 0 and board[row][col - 1] == other_player:\n",
        "          moves += 1\n",
        "  return moves\n",
        "\n",
        "def available_moves(input_board, player, other_player):\n",
        "  board = deepcopy(input_board)\n",
        "  a_moves = []\n",
        "  for row in range(len(board)):\n",
        "    for col in range(len(board[row])):\n",
        "      if board[row][col] == player:\n",
        "        if row + 1 < len(board) and board[row + 1][col] == other_player:\n",
        "          a_moves.append((row, col, 'D'))\n",
        "        if col + 1 < len(board[row]) and board[row][col + 1] == other_player:\n",
        "          a_moves.append((row, col, 'R'))\n",
        "        if row - 1 >= 0 and board[row - 1][col] == other_player:\n",
        "          a_moves.append((row, col, 'U'))\n",
        "        if col - 1 >= 0 and board[row][col - 1] == other_player:\n",
        "          a_moves.append((row, col, 'L'))\n",
        "  return a_moves\n",
        "\n",
        "def move_preview_v12(input_board, player, move):\n",
        "  board = deepcopy(input_board)\n",
        "  board[move[0]][move[1]] = '.'\n",
        "  if move[2] == 'D':\n",
        "    board[move[0] + 1][move[1]] = player\n",
        "  if move[2] == 'R':\n",
        "    board[move[0]][move[1] + 1] = player\n",
        "  if move[2] == 'U':\n",
        "    board[move[0] - 1][move[1]] = player\n",
        "  if move[2] == 'L':\n",
        "    board[move[0]][move[1] - 1] = player\n",
        "  return board\n",
        "\n",
        "def solver_v12(game):\n",
        "  board = game.get_board()\n",
        "  player = game.player\n",
        "  other_player = game.other_player()\n",
        "  value, move, adv = max_value_v12(board, 3, player, other_player)\n",
        "  return move\n",
        "\n",
        "def max_value_v12(board, depth, player, other_player):\n",
        "  my_moves = number_of_moves(board, player, other_player)\n",
        "  other_moves = number_of_moves(board, other_player, player)\n",
        "  if depth == 0:\n",
        "    if my_moves > other_moves:\n",
        "      return 1, None, other_moves\n",
        "    else:\n",
        "      return -1, None, other_moves\n",
        "  if my_moves == 0:\n",
        "    return -1, None, other_moves\n",
        "  if other_moves == 0:\n",
        "    return 1, None, 0\n",
        "  win_options = {}\n",
        "  lose_with_honor = {}\n",
        "  for action in available_moves(board, player, other_player):\n",
        "    preview = move_preview_v12(board, player, action)\n",
        "    v2, a2, m2 = min_value_v12(preview, depth-1, other_player, player)\n",
        "    if v2 == 1:\n",
        "      win_options[action] = number_of_moves(preview, other_player, player)\n",
        "    elif v2 == -1:\n",
        "      lose_with_honor[action] = number_of_moves(preview, other_player, player)\n",
        "  if len(win_options) == 0:\n",
        "    move = min(lose_with_honor, key=lose_with_honor.get)\n",
        "    advantage_moves = lose_with_honor[move]\n",
        "  else:\n",
        "    move = min(win_options, key=win_options.get)\n",
        "    advantage_moves = win_options[move]\n",
        "  value = v2\n",
        "  return value, move, advantage_moves\n",
        "  \n",
        "def min_value_v12(board, depth, player, other_player):\n",
        "  my_moves = number_of_moves(board, player, other_player)\n",
        "  other_moves = number_of_moves(board, other_player, player)\n",
        "  if depth == 0:\n",
        "    if my_moves > other_moves:\n",
        "      return -1, None, my_moves\n",
        "    else:\n",
        "      return 1, None, my_moves\n",
        "  if my_moves == 0:\n",
        "    return 1, None, 0\n",
        "  if other_moves == 0:\n",
        "    return -1, None, my_moves\n",
        "  win_options = {}\n",
        "  lose_with_honor = {}\n",
        "  for action in available_moves(board, player, other_player):\n",
        "    preview = move_preview_v12(board, player, action)\n",
        "    v2, a2, m2 = max_value_v12(preview, depth-1, other_player, player)\n",
        "    if v2 == -1:\n",
        "      win_options[action] = number_of_moves(preview, other_player, player)\n",
        "    elif v2 == 1:\n",
        "      lose_with_honor[action] = number_of_moves(preview, other_player, player)\n",
        "  if len(win_options) == 0:\n",
        "    move = min(lose_with_honor, key=lose_with_honor.get)\n",
        "    advantage_moves = lose_with_honor[move]\n",
        "  else:\n",
        "    move = min(win_options, key=win_options.get)\n",
        "    advantage_moves = win_options[move]\n",
        "  value = v2\n",
        "  return value, move, advantage_moves"
      ]
    },
    {
      "cell_type": "markdown",
      "metadata": {
        "id": "78YE6QFAd2Oc"
      },
      "source": [
        "# Tester"
      ]
    },
    {
      "cell_type": "code",
      "execution_count": null,
      "metadata": {
        "colab": {
          "base_uri": "https://localhost:8080/"
        },
        "id": "lFl56gvUVvks",
        "outputId": "94b0a5c8-d42a-4386-ed80-6fa0d75dcbb6"
      },
      "outputs": [],
      "source": [
        "game_loop(solver_v12, Clobber, 'clobber', multi_player=False, id=None)"
      ]
    },
    {
      "cell_type": "code",
      "execution_count": null,
      "metadata": {
        "colab": {
          "base_uri": "https://localhost:8080/"
        },
        "id": "oQA24i15JLH3",
        "outputId": "397e8144-a08c-4ea0-dd9f-e825096d07a9"
      },
      "outputs": [],
      "source": [
        "i = 0\n",
        "won = 0\n",
        "while i < 10:\n",
        "  won += game_loop_test(solver_v12, Clobber, 'clobber', multi_player=False, id=None)\n",
        "  i += 1\n",
        "  print(i)\n",
        "print(\"The algorithm won \", won, \" times!\")"
      ]
    }
  ],
  "metadata": {
    "colab": {
      "collapsed_sections": [
        "22A1Mu0od8aE",
        "OQZzICt_dOMu",
        "_uygOxA9dkrc",
        "OgAZmaU-fv4V",
        "IbB45ud3gcqh",
        "NdZozFbeB-GC",
        "0vKHdIwpYvy_",
        "bNEJp3pzZFUk",
        "NzHq8yQbZICh",
        "K3JTEJRH_UFT",
        "y2-NWfq50aJH"
      ],
      "provenance": []
    },
    "kernelspec": {
      "display_name": "Python 3.9.12 64-bit",
      "language": "python",
      "name": "python3"
    },
    "language_info": {
      "codemirror_mode": {
        "name": "ipython",
        "version": 3
      },
      "file_extension": ".py",
      "mimetype": "text/x-python",
      "name": "python",
      "nbconvert_exporter": "python",
      "pygments_lexer": "ipython3",
      "version": "3.9.12"
    },
    "vscode": {
      "interpreter": {
        "hash": "31f0cf73b2b9fda9ee8c01d93580bf2992485639d458aec889f04796d16ea0b9"
      }
    }
  },
  "nbformat": 4,
  "nbformat_minor": 0
}
