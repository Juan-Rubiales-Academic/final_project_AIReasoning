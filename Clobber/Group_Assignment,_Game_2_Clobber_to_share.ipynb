{
  "cells": [
    {
      "cell_type": "markdown",
      "metadata": {
        "id": "SMOeYqKQEWAh"
      },
      "source": [
        "Please remember to update the token. For multiplayer to work, each player needs a different token. Please feel free to use multiple tokens in the same group."
      ]
    },
    {
      "cell_type": "code",
      "execution_count": 2,
      "metadata": {
        "id": "jMHiHG2lEUJo"
      },
      "outputs": [],
      "source": [
        "#Update your token\n",
        "STUDENT_TOKEN = 'Juan Rubiales'"
      ]
    },
    {
      "cell_type": "markdown",
      "metadata": {
        "id": "Kv-G27nSEQ2f"
      },
      "source": [
        "There should be no need to change the code below."
      ]
    },
    {
      "cell_type": "code",
      "execution_count": 3,
      "metadata": {
        "id": "z9Bf9x8JNee2"
      },
      "outputs": [],
      "source": [
        "## ignore this code, just used for submission\n",
        "import requests\n",
        "import pprint\n",
        "import json\n",
        "import random\n",
        "import time\n",
        "from copy import copy, deepcopy\n",
        "\n",
        "class Game:\n",
        "  def __init__(self, state, status, player):\n",
        "    self.state = state\n",
        "    self.status = status\n",
        "    self.player = player\n",
        "\n",
        "  def is_waiting(self):\n",
        "    return self.status == 'waiting'\n",
        "\n",
        "  def is_end(self):\n",
        "    return self.status == 'complete'\n",
        "  \n",
        "  def get_board(self):\n",
        "    return json.loads(self.state)\n",
        "\n",
        "  def get_winner(self):\n",
        "    return None\n",
        "\n",
        "  def actions(self):\n",
        "    return []\n",
        "\n",
        "  def print(self):\n",
        "    print(self.state)\n",
        "\n",
        "def new_game(game_type, multi_player = False):\n",
        "  for _ in range(10):\n",
        "    r = requests.get('https://emarchiori.eu.pythonanywhere.com/new-game?TOKEN=%s&game-type=%s&multi-player=%s' % (STUDENT_TOKEN, game_type, 'True' if multi_player else 'False'))\n",
        "    if r.status_code == 200:\n",
        "      return r.json()['game-id']\n",
        "    print(r.content)\n",
        "\n",
        "def join_game(game_type, game_id):\n",
        "  for _ in range(10):\n",
        "    r = requests.get('https://emarchiori.eu.pythonanywhere.com/join-game?TOKEN=%s&game-type=%s&game-id=%s' % (STUDENT_TOKEN, game_type, game_id))\n",
        "    if r.status_code == 200:\n",
        "      return r.json()['player']\n",
        "    print(r.content)\n",
        "\n",
        "def game_state(game_type, game_id, GameClass):\n",
        "  for _ in range(10):\n",
        "    r = requests.get('https://emarchiori.eu.pythonanywhere.com/game-state?TOKEN=%s&game-type=%s&game-id=%s' % (STUDENT_TOKEN, game_type, game_id))\n",
        "    if r.status_code == 200:\n",
        "      return GameClass(r.json()['state'], r.json()['status'], r.json()['player'])\n",
        "    print(r.content)\n",
        "\n",
        "def update_game(game_type, game_id, player, move):\n",
        "  for _ in range(10):\n",
        "    r = requests.get('https://emarchiori.eu.pythonanywhere.com/update-game?TOKEN=%s&game-type=%s&game-id=%s&player=%s&move=%s' % (STUDENT_TOKEN, game_type, game_id, player, move))\n",
        "    if r.status_code == 200:\n",
        "      return r.content\n",
        "    print(r.content)\n",
        "\n",
        "def game_loop(solver, GameClass, game_type, multi_player = False, id = None):\n",
        "  while id == None:\n",
        "    print('Creating new game...')\n",
        "    id = new_game(game_type, multi_player)\n",
        "\n",
        "  print('Joining game with id: %s' % id)\n",
        "  player = join_game(game_type, id)\n",
        "\n",
        "  print('Playing as %s' % player)\n",
        "\n",
        "  game = game_state(game_type, id, GameClass)\n",
        "  print('Waiting for the other player to join...')\n",
        "  while game.is_waiting():\n",
        "    time.sleep(10)\n",
        "    game = game_state(game_type, id, GameClass)\n",
        "\n",
        "  while True:\n",
        "    game = game_state(game_type, id, GameClass)\n",
        "    game.print_game()\n",
        "    if game.is_end():\n",
        "      if game.player == '-':\n",
        "        print('Server says there is a draw')\n",
        "      else:\n",
        "        print('Server says your agent ' + ('WON' if game.player == player else 'LOST'))\n",
        "      return\n",
        "    if game.player == player:\n",
        "      print('Making next move...')\n",
        "      move = solver(game)\n",
        "      print(move)\n",
        "      update_result = update_game(game_type, id, player, json.dumps(move))\n",
        "      print(update_result)\n",
        "    else:\n",
        "      time.sleep(2)"
      ]
    },
    {
      "cell_type": "markdown",
      "metadata": {
        "id": "bkmvv9xnEfix"
      },
      "source": [
        "There is almost certainly no need to change this code, but if you must you can."
      ]
    },
    {
      "cell_type": "code",
      "execution_count": 4,
      "metadata": {
        "id": "r_zr2XPCyKyl"
      },
      "outputs": [],
      "source": [
        "from functools import reduce\n",
        "from copy import copy, deepcopy\n",
        "import json\n",
        "import random\n",
        "\n",
        "class Clobber(Game):\n",
        "  def __init__(self, state, status, player):\n",
        "    Game.__init__(self, state, status, player)\n",
        "\n",
        "  def actions(self):\n",
        "    return [] # this should return the possible actions\n",
        "\n",
        "  def get_winner(self):\n",
        "    return '.' # this should return the actual winner\n",
        "\n",
        "  def other_player(self):\n",
        "    if self.player == 'O': return 'X'\n",
        "    if self.player == 'X': return 'O'\n",
        "\n",
        "  def print_game(self):\n",
        "    for row in self.get_board():\n",
        "      print(row)\n"
      ]
    },
    {
      "cell_type": "markdown",
      "metadata": {
        "id": "BlaDsHFtEkme"
      },
      "source": [
        "Instead of changing this code for a random solver, write new code that also returns the next move. For example, create a new \"amazing_solver\".\n",
        "\n",
        "Solvers need to return a list or tuple of 3 elements: row, col and dir. Dir can be 'R', 'L', 'U', 'D'"
      ]
    },
    {
      "cell_type": "code",
      "execution_count": 5,
      "metadata": {
        "id": "ZeCaSFQtGw3f"
      },
      "outputs": [],
      "source": [
        "def random_solver(game):\n",
        "  board = game.get_board()\n",
        "  player = game.player\n",
        "  other_player = game.other_player()\n",
        "  opts = []\n",
        "  for row in range(len(board)):\n",
        "    for col in range(len(board[row])):\n",
        "      if board[row][col] == player:\n",
        "        if row + 1 < len(board) and board[row + 1][col] == other_player:\n",
        "          opts.append((row, col, 'D'))\n",
        "        if col + 1 < len(board[row]) and board[row][col + 1] == other_player:\n",
        "          opts.append((row, col, 'R'))\n",
        "        if row - 1 >= 0 and board[row - 1][col] == other_player:\n",
        "          opts.append((row, col, 'U'))\n",
        "        if col - 1 >= 0 and board[row][col - 1] == other_player:\n",
        "          opts.append((row, col, 'L'))\n",
        "  return opts[random.randint(0, len(opts) - 1)]"
      ]
    },
    {
      "cell_type": "markdown",
      "metadata": {
        "id": "F30IkgA6Evc0"
      },
      "source": [
        "This code is the one that starts the game. In different games you will need to change the class (Clobber is the one for clobber game).\n",
        "\n",
        "The 'multi_player' variable can be True or False. If you set multi_palyer to True, you will need to provide a game_id against which to play or if using None a new game will be created (which another player can join)."
      ]
    },
    {
      "cell_type": "code",
      "execution_count": 6,
      "metadata": {
        "colab": {
          "base_uri": "https://localhost:8080/"
        },
        "id": "HbEE9dFYG_Mw",
        "outputId": "67677b49-2ce5-4252-8215-132ebfcd877c"
      },
      "outputs": [
        {
          "name": "stdout",
          "output_type": "stream",
          "text": [
            "Creating new game...\n",
            "Joining game with id: 28\n",
            "Playing as O\n",
            "Waiting for the other player to join...\n",
            "['X', 'O', 'X', 'X', 'X']\n",
            "['O', 'X', 'O', '.', 'O']\n",
            "['X', 'O', 'X', 'O', 'X']\n",
            "['O', 'X', 'O', 'X', 'O']\n",
            "['X', 'O', 'X', 'O', 'X']\n",
            "['O', 'X', 'O', 'X', 'O']\n",
            "Making next move...\n",
            "(1, 4, 'D')\n",
            "b'Valid move'\n",
            "['X', 'O', 'X', 'X', 'X']\n",
            "['O', 'X', 'O', '.', '.']\n",
            "['X', 'O', 'X', 'O', 'O']\n",
            "['O', '.', 'O', 'X', 'O']\n",
            "['X', 'X', 'X', 'O', 'X']\n",
            "['O', 'X', 'O', 'X', 'O']\n",
            "Making next move...\n",
            "(2, 3, 'D')\n",
            "b'Valid move'\n",
            "['X', 'O', 'X', 'X', 'X']\n",
            "['O', 'X', 'O', '.', '.']\n",
            "['X', 'O', 'X', '.', 'O']\n",
            "['O', '.', 'X', 'O', 'O']\n",
            "['X', 'X', '.', 'O', 'X']\n",
            "['O', 'X', 'O', 'X', 'O']\n",
            "Making next move...\n",
            "(5, 0, 'U')\n",
            "b'Valid move'\n",
            "['X', 'O', 'X', 'X', 'X']\n",
            "['O', '.', 'X', '.', '.']\n",
            "['X', 'O', 'X', '.', 'O']\n",
            "['O', '.', 'X', 'O', 'O']\n",
            "['O', 'X', '.', 'O', 'X']\n",
            "['.', 'X', 'O', 'X', 'O']\n",
            "Making next move...\n",
            "(0, 1, 'R')\n",
            "b'Valid move'\n",
            "['X', '.', 'X', 'X', 'X']\n",
            "['O', '.', '.', '.', '.']\n",
            "['X', 'O', 'X', '.', 'O']\n",
            "['O', '.', 'X', 'O', 'O']\n",
            "['O', 'X', '.', 'O', 'X']\n",
            "['.', 'X', 'O', 'X', 'O']\n",
            "Making next move...\n",
            "(3, 3, 'L')\n",
            "b'Valid move'\n",
            "['X', '.', 'X', 'X', 'X']\n",
            "['O', '.', '.', '.', '.']\n",
            "['X', 'O', 'X', '.', 'O']\n",
            "['O', '.', 'O', '.', 'O']\n",
            "['O', 'X', '.', 'O', 'X']\n",
            "['.', 'X', 'O', '.', 'X']\n",
            "Making next move...\n",
            "(3, 2, 'U')\n",
            "b'Valid move'\n",
            "['X', '.', 'X', 'X', 'X']\n",
            "['O', '.', '.', '.', '.']\n",
            "['.', 'X', 'O', '.', 'O']\n",
            "['O', '.', '.', '.', 'O']\n",
            "['O', 'X', '.', 'O', 'X']\n",
            "['.', 'X', 'O', '.', 'X']\n",
            "Making next move...\n",
            "(2, 2, 'L')\n",
            "b'Valid move'\n",
            "['X', '.', 'X', 'X', 'X']\n",
            "['O', '.', '.', '.', '.']\n",
            "['.', 'O', '.', '.', 'O']\n",
            "['O', '.', '.', '.', 'O']\n",
            "['O', 'X', '.', 'X', '.']\n",
            "['.', 'X', 'O', '.', 'X']\n",
            "Making next move...\n",
            "(4, 0, 'R')\n",
            "b'Valid move'\n",
            "['X', '.', 'X', 'X', 'X']\n",
            "['O', '.', '.', '.', '.']\n",
            "['.', 'O', '.', '.', 'O']\n",
            "['O', '.', '.', '.', 'O']\n",
            "['.', 'X', '.', 'X', '.']\n",
            "['.', '.', 'O', '.', 'X']\n",
            "Making next move...\n",
            "(1, 0, 'U')\n",
            "b'Valid move'\n",
            "['O', '.', 'X', 'X', 'X']\n",
            "['.', '.', '.', '.', '.']\n",
            "['.', 'O', '.', '.', 'O']\n",
            "['O', '.', '.', '.', 'O']\n",
            "['.', 'X', '.', 'X', '.']\n",
            "['.', '.', 'O', '.', 'X']\n",
            "Server says your agent WON\n"
          ]
        }
      ],
      "source": [
        "game_loop(random_solver, Clobber, 'clobber', multi_player=False, id=None)"
      ]
    }
  ],
  "metadata": {
    "colab": {
      "collapsed_sections": [],
      "provenance": []
    },
    "kernelspec": {
      "display_name": "Python 3.11.0 64-bit",
      "language": "python",
      "name": "python3"
    },
    "language_info": {
      "codemirror_mode": {
        "name": "ipython",
        "version": 3
      },
      "file_extension": ".py",
      "mimetype": "text/x-python",
      "name": "python",
      "nbconvert_exporter": "python",
      "pygments_lexer": "ipython3",
      "version": "3.11.0"
    },
    "vscode": {
      "interpreter": {
        "hash": "e27d09a1f32823a4988b211562278e77704b68b9cb89de75a81e314acea13ca6"
      }
    }
  },
  "nbformat": 4,
  "nbformat_minor": 0
}
