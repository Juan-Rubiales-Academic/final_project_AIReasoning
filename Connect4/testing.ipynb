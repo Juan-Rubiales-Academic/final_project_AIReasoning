{
 "cells": [
  {
   "cell_type": "code",
   "execution_count": 309,
   "metadata": {},
   "outputs": [],
   "source": [
    "board = [['.', '.', '.', '.', '.', '.', '.'],\n",
    "['.', '.', '.', '.', '.', '.', '.'],\n",
    "['.', '.', '.', '.', '.', '.', '.'],\n",
    "['.', '.', '.', '.', '.', '.', '.'],\n",
    "['.', '.', '.', '.', '.', '.', 'X'],\n",
    "['P', '.', '.', 'X', 'X', '.', 'X']]\n",
    "\n",
    "# print(row_d)"
   ]
  },
  {
   "cell_type": "code",
   "execution_count": 336,
   "metadata": {},
   "outputs": [],
   "source": [
    "def is_valid_move(p, board):\n",
    "\n",
    "    # Get the index of the row in the column\n",
    "    row_index = -1\n",
    "    for row in board:\n",
    "        if row[p] == '.':\n",
    "            row_index += 1\n",
    "    return row_index"
   ]
  },
  {
   "cell_type": "code",
   "execution_count": 423,
   "metadata": {},
   "outputs": [],
   "source": [
    "def row_check(version, board, col):\n",
    "    # Rever the board\n",
    "    # board.reverse()\n",
    "    for i in range(0, len(board) - 2):\n",
    "\n",
    "        for j in range(0, 4):\n",
    "            \n",
    "            print(board[i][j:j+4])\n",
    "            if board[i][i:i+4] == version:\n",
    "                \n",
    "                for k in range(0, 4):\n",
    "                    if i+k == col and row[i+k] == '.':\n",
    "                        print(version, i+k)\n",
    "                        board[5][col] = 'P'\n",
    "                        \n",
    "                        for row in board:\n",
    "                            print(row)\n",
    "\n",
    "                        count = 0\n",
    "                        for l in range(0, 4):\n",
    "                            # print(i, j, k)\n",
    "                            print(is_valid_move(i, board))\n",
    "                            print(\"index\",board.index(row))\n",
    "                            # Check if t, he move is valid\n",
    "                            if is_valid_move(i, board) == board.index(row):\n",
    "                                count += 1\n",
    "                                print(\"hwhw\")\n",
    "\n",
    "                        print(count)\n",
    "                        if count == 2 and version.count('X') == 2:\n",
    "\n",
    "                            return \"eee\"\n",
    "                        \n",
    "                        if count == 3 and version.count('X') == 3:\n",
    "                            return \"www\"\n",
    "\n",
    "                        return True\n",
    "\n",
    "            version = version[1:] + [version[0]]\n",
    "\n",
    "    return False\n",
    "        "
   ]
  },
  {
   "cell_type": "code",
   "execution_count": 424,
   "metadata": {},
   "outputs": [
    {
     "name": "stdout",
     "output_type": "stream",
     "text": [
      "['.', '.', '.', '.']\n",
      "['.', '.', '.', '.']\n",
      "['.', '.', '.', '.']\n",
      "['.', '.', '.', '.']\n",
      "['.', '.', '.', '.']\n",
      "['.', '.', '.', '.']\n",
      "['.', '.', '.', '.']\n",
      "['.', '.', '.', '.']\n",
      "['.', '.', '.', '.']\n",
      "['.', '.', '.', '.']\n",
      "['.', '.', '.', '.']\n",
      "['.', '.', '.', '.']\n",
      "['X', '.', '.', '.']\n",
      "['.', '.', '.', 'X']\n",
      "['.', '.', 'X', '.']\n",
      "['.', 'X', '.', 'C']\n"
     ]
    },
    {
     "data": {
      "text/plain": [
       "False"
      ]
     },
     "execution_count": 424,
     "metadata": {},
     "output_type": "execute_result"
    }
   ],
   "source": [
    "board = [['.', '.', '.', '.', '.', '.', '.'],\n",
    "['.', '.', '.', '.', '.', '.', '.'],\n",
    "['.', '.', '.', '.', '.', '.', '.'],\n",
    "['X', '.', '.', '.', 'X', '.', 'C'],\n",
    "['X', '.', '.', '.', 'r', 'X', 'X'],\n",
    "['1', 'X', '.', 'X', 'X', 'f', 'X']]\n",
    "\n",
    "player = \"X\"\n",
    "version = [player, player, player, \".\"]\n",
    "version2 = [player, \".\", player, \".\"]\n",
    "version3 =  [\".\", player, player, \".\"]\n",
    "\n",
    "col = 2\n",
    "\n",
    "row_check(version, board, col)"
   ]
  },
  {
   "cell_type": "code",
   "execution_count": 313,
   "metadata": {},
   "outputs": [],
   "source": [
    "# Check positive diagonal\n",
    "def diagonal_check_pos(version, board, s):\n",
    "\n",
    "    board_copy = board\n",
    "    # Loop through the board in a diagonal fashion\n",
    "    for i in range(0, len(board) - 3):\n",
    "        for j in range(0, 4):\n",
    "\n",
    "            # Check for the different versions of critical positions\n",
    "            for p in range(len(version)): \n",
    "\n",
    "                if i + 3 < len(board) and j + 3 < len(board[0]):\n",
    "                # If the row has 4 consecutive pieces of the same player\n",
    "                    if board[i][j] == version[0] and board[i + 1][j + 1] == version[1] and board[i + 2][j + 2] == version[2] and board[i + 3][j + 3] == version[3]:\n",
    "                        \n",
    "                        # Check if index same as s and if the position is empty\n",
    "                        for k in range(0,4):\n",
    "                            if j + k == s and board[i + k][j + k] == \".\":\n",
    "\n",
    "                                # check if is a valid move\n",
    "                                count = 0\n",
    "                                for c in range(0, 4):\n",
    "\n",
    "                                    if is_valid_move(j+c) == i+c and board[i+c][j+c] == \".\":\n",
    "                                        count += 1\n",
    "                                \n",
    "                                if count == 2 and version.count(\"X\") == 2:\n",
    "                                    return True\n",
    "                                \n",
    "                                if count == 1 and version.count(\"X\") == 3:\n",
    "                                    return True\n",
    "                                \n",
    "                    # Change the version to check for other combinations\n",
    "                    version = version[1:] + [version[0]]\n",
    "\n",
    "    return False\n"
   ]
  },
  {
   "cell_type": "code",
   "execution_count": 314,
   "metadata": {},
   "outputs": [],
   "source": [
    "# check 3 in a row in negative diagonal\n",
    "def diagonal_check_neg(version, board, s):\n",
    "    # Version of critical positions\n",
    "\n",
    "    # Loop through the board in a diagonal fashion\n",
    "    for i in range(0, len(board)):\n",
    "        for j in range(0, 4):\n",
    "\n",
    "            # Check for the different versions of critical positions\n",
    "            for p in range(len(version)):\n",
    "\n",
    "                if i -3 >= 0 and j + 3 < len(board[0]):\n",
    "                    # If the row has 4 consecutive pieces of the same player\n",
    "                    if board[i][j] == version[0] and board[i - 1][j + 1] == version[1] and board[i - 2][j + 2] == version[2] and board[i - 3][j + 3] == version[3]:\n",
    "                        \n",
    "                        # Check if index same as s and if the position is empty\n",
    "                        for k in range(0,4):\n",
    "                            if j + k == s and board[i - k][j + k] == \".\":\n",
    "                                # check if is a valid move\n",
    "                                count = 0\n",
    "                                for c in range(0, 4):\n",
    "                                    if is_valid_move(j+c) == i-c and board[i-c][j+c] == \".\":\n",
    "                                        count += 1\n",
    "                                    \n",
    "                                if count == 2 and version.count(\"X\") == 2:\n",
    "                                    return True\n",
    "                                \n",
    "                                if count == 1 and version.count(\"X\") == 3:\n",
    "                                    return True\n",
    "                    \n",
    "                    # Change the version to check for other combinations\n",
    "                    version = version[1:] + [version[0]]\n",
    "\n",
    "    return False"
   ]
  },
  {
   "cell_type": "code",
   "execution_count": 316,
   "metadata": {},
   "outputs": [
    {
     "name": "stdout",
     "output_type": "stream",
     "text": [
      "False\n",
      "False\n",
      "------------------\n",
      "False\n",
      "False\n",
      "------------------\n",
      "False\n",
      "True\n"
     ]
    }
   ],
   "source": [
    "board = [['.', '.', '.', '.', '.', '.', '.'],\n",
    "['.', '.', '.', '.', '.', '.', '.'],\n",
    "['.', '.', '.', 'X', '.', '.', '.'],\n",
    "['X', '.', '.', 'X', 'X', '.', 'C'],\n",
    "['X', 'X', '.', 'b', 'X', 'X', 'X'],\n",
    "['1', 'X', 'X', 'X', 'X', 'f', 'X']]\n",
    "\n",
    "player = \"X\"\n",
    "version = [player, player, player, \".\"]\n",
    "version2 = [player, \".\", player, \".\"]\n",
    "version3 =  [\".\", player, player, \".\"]\n",
    "\n",
    "col = 6\n",
    "\n",
    "print(diagonal_check_pos(version, board, col))\n",
    "print(diagonal_check_neg(version, board, col))\n",
    "\n",
    "print(\"------------------\")\n",
    "\n",
    "print(diagonal_check_pos(version2, board, col))\n",
    "print(diagonal_check_neg(version2, board, col))\n",
    "\n",
    "print(\"------------------\")\n",
    "\n",
    "print(diagonal_check_pos(version3, board, col))\n",
    "print(diagonal_check_neg(version3, board, col))\n"
   ]
  }
 ],
 "metadata": {
  "kernelspec": {
   "display_name": "Python 3.9.12 64-bit",
   "language": "python",
   "name": "python3"
  },
  "language_info": {
   "codemirror_mode": {
    "name": "ipython",
    "version": 3
   },
   "file_extension": ".py",
   "mimetype": "text/x-python",
   "name": "python",
   "nbconvert_exporter": "python",
   "pygments_lexer": "ipython3",
   "version": "3.9.12"
  },
  "orig_nbformat": 4,
  "vscode": {
   "interpreter": {
    "hash": "31f0cf73b2b9fda9ee8c01d93580bf2992485639d458aec889f04796d16ea0b9"
   }
  }
 },
 "nbformat": 4,
 "nbformat_minor": 2
}
