{
 "cells": [
  {
   "cell_type": "code",
   "execution_count": null,
   "metadata": {},
   "outputs": [],
   "source": [
    "for i in range(0, len(diagonal) - 3):\n",
    "    if diagonal[i] == opponent and diagonal[i + 1] == opponent and diagonal[i + 2] == opponent and diagonal[i + 3] == '.':\n",
    "        print(\"ll\")\n",
    "        return 1000000\n",
    "    if diagonal[i] == opponent and diagonal[i + 1] == opponent and diagonal[i + 2] == '.' and diagonal[i + 3] == opponent:\n",
    "        print(\"ll\")\n",
    "        return 1000000\n",
    "    if diagonal[i] == opponent and diagonal[i + 1] == '.' and diagonal[i + 2] == opponent and diagonal[i + 3] == opponent:\n",
    "        print(\"ll\")\n",
    "        return 1000000\n",
    "    if diagonal[i] == '.' and diagonal[i + 1] == opponent and diagonal[i + 2] == opponent and diagonal[i + 3] == opponent:\n",
    "        print(\"ll\")\n",
    "        return 1000000\n",
    "\n",
    "Players = [player, opponent]\n",
    "version = [\"X\", \"X\", \"X\", \".\"]\n",
    "#  Optimized version of the above code\n",
    "for i in range(0, len(diagonal) - 3):\n",
    "    for x in range(0,2):\n",
    "        for j in range(0, 4):\n",
    "            # version_temp = \n",
    "            if diagonal[i] == version[0] and diagonal[i + 1] == version[1] and diagonal[i + 2] == version[2] and diagonal[i + 3] == version[3]:\n",
    "                print(\"ll\")\n",
    "                return 1000000\n",
    "            \n",
    "            version = version[1:] + [version[0]]\n",
    "       \n",
    "            \n",
    "        # Reset the version list\n"
   ]
  },
  {
   "cell_type": "code",
   "execution_count": 30,
   "metadata": {},
   "outputs": [
    {
     "name": "stdout",
     "output_type": "stream",
     "text": [
      "False\n"
     ]
    }
   ],
   "source": [
    "# The problem inputs is the following:\n",
    "# Only two players\n",
    "# the player\n",
    "# an array of players and empty spaces\n",
    "arr = [\"x\", \".\", \"o\", \"x\",\".\", \"x\", \".\"]\n",
    "\n",
    "n = \"x\"\n",
    "\n",
    "# The problem needs to find if the player new position is a winning position\n",
    "# The problem needs to find if the player new position is a winning position\n",
    "\n",
    "def check(arr,n):\n",
    "    version = [\"x\", \"x\", \"x\", \".\"]\n",
    "    for i in range(0, len(arr) - 3):\n",
    "        for j in range(0, 4):\n",
    "            if arr[i] == version[0] and arr[i + 1] == version[1] and arr[i + 2] == version[2] and arr[i + 3] == version[3]:\n",
    "                return True\n",
    "            version = version[1:] + [version[0]]\n",
    "    return False\n",
    "\n",
    "print(check(arr, n))"
   ]
  }
 ],
 "metadata": {
  "kernelspec": {
   "display_name": "Python 3.11.0 64-bit",
   "language": "python",
   "name": "python3"
  },
  "language_info": {
   "codemirror_mode": {
    "name": "ipython",
    "version": 3
   },
   "file_extension": ".py",
   "mimetype": "text/x-python",
   "name": "python",
   "nbconvert_exporter": "python",
   "pygments_lexer": "ipython3",
   "version": "3.11.0"
  },
  "orig_nbformat": 4,
  "vscode": {
   "interpreter": {
    "hash": "e27d09a1f32823a4988b211562278e77704b68b9cb89de75a81e314acea13ca6"
   }
  }
 },
 "nbformat": 4,
 "nbformat_minor": 2
}
